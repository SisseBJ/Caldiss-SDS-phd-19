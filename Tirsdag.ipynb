{
 "cells": [
  {
   "cell_type": "code",
   "execution_count": 1,
   "metadata": {},
   "outputs": [],
   "source": [
    "!pip install -qq -U matplotlib\n",
    "import pandas as pd #Pandas handles tabular data\n",
    "pd.set_option('display.float_format', lambda x: '%.3f' % x) # turn off scientific notation and too much decimal blah\n",
    "import matplotlib.pyplot as plt # standard plotting library\n",
    "import numpy as np #Numpy for linear algebra & co\n",
    "import seaborn as sns # For pretty dataviz\n",
    "sns.set_style(\"darkgrid\") # Define style for dataviz"
   ]
  },
  {
   "cell_type": "code",
   "execution_count": 2,
   "metadata": {},
   "outputs": [
    {
     "data": {
      "text/plain": [
       "array([[1, 2, 4],\n",
       "       [3, 4, 4],\n",
       "       [3, 6, 7]])"
      ]
     },
     "execution_count": 2,
     "metadata": {},
     "output_type": "execute_result"
    }
   ],
   "source": [
    "# define a matrix\n",
    "mat = np.array([[1, 2, 4], [3, 4, 4], [3, 6, 7]])\n",
    "\n",
    "mat"
   ]
  },
  {
   "cell_type": "code",
   "execution_count": 3,
   "metadata": {},
   "outputs": [],
   "source": [
    "# center columns by subtracting column means\n",
    "mat_cent = mat - np.mean(mat.T, axis=1)"
   ]
  },
  {
   "cell_type": "code",
   "execution_count": 4,
   "metadata": {},
   "outputs": [
    {
     "name": "stdout",
     "output_type": "stream",
     "text": [
      "Covariance matrix by NumPy\n",
      "[[1.33333333 2.         1.        ]\n",
      " [2.         4.         3.        ]\n",
      " [1.         3.         3.        ]]\n"
     ]
    }
   ],
   "source": [
    "# Compute the covariance matrix\n",
    "cov_mat = np.cov(mat_cent.T)\n",
    "print('Covariance matrix by NumPy\\n%s' %cov_mat)"
   ]
  },
  {
   "cell_type": "code",
   "execution_count": 5,
   "metadata": {},
   "outputs": [
    {
     "name": "stdout",
     "output_type": "stream",
     "text": [
      "Eigenvectors \n",
      "[[-0.34238119 -0.6882472   0.63960215]\n",
      " [-0.73367398 -0.22941573 -0.63960215]\n",
      " [-0.58693919  0.6882472   0.42640143]]\n",
      "\n",
      "Eigenvalues \n",
      "[ 7.33333333e+00  1.00000000e+00 -1.37234766e-16]\n"
     ]
    }
   ],
   "source": [
    "# Next, we perform an eigendecomposition on the covariance matrix:\n",
    "eig_vals, eig_vecs = np.linalg.eig(cov_mat)\n",
    "\n",
    "print('Eigenvectors \\n%s' %eig_vecs)\n",
    "print('\\nEigenvalues \\n%s' %eig_vals)"
   ]
  },
  {
   "cell_type": "code",
   "execution_count": 6,
   "metadata": {},
   "outputs": [],
   "source": [
    "# Import the functions we need\n",
    "from sklearn.decomposition import PCA # PCA from  sklearn, the python ML standard library"
   ]
  },
  {
   "cell_type": "code",
   "execution_count": 8,
   "metadata": {},
   "outputs": [],
   "source": [
    "# Initialize a model\n",
    "model = PCA()"
   ]
  },
  {
   "cell_type": "code",
   "execution_count": 9,
   "metadata": {},
   "outputs": [
    {
     "data": {
      "text/plain": [
       "PCA(copy=True, iterated_power='auto', n_components=None, random_state=None,\n",
       "    svd_solver='auto', tol=0.0, whiten=False)"
      ]
     },
     "execution_count": 9,
     "metadata": {},
     "output_type": "execute_result"
    }
   ],
   "source": [
    "# Fit the model\n",
    "model.fit(mat) # Bruger funktioner fra decomposition på model"
   ]
  },
  {
   "cell_type": "code",
   "execution_count": 10,
   "metadata": {},
   "outputs": [
    {
     "data": {
      "text/plain": [
       "array([[ 0.34238119,  0.73367398,  0.58693919],\n",
       "       [ 0.6882472 ,  0.22941573, -0.6882472 ],\n",
       "       [-0.63960215,  0.63960215, -0.42640143]])"
      ]
     },
     "execution_count": 10,
     "metadata": {},
     "output_type": "execute_result"
    }
   ],
   "source": [
    "# Access the Eigenvectors (components)\n",
    "model.components_"
   ]
  },
  {
   "cell_type": "code",
   "execution_count": 11,
   "metadata": {},
   "outputs": [
    {
     "data": {
      "text/plain": [
       "array([7.33333333e+00, 1.00000000e+00, 6.47435665e-33])"
      ]
     },
     "execution_count": 11,
     "metadata": {},
     "output_type": "execute_result"
    }
   ],
   "source": [
    "# How much variance is explained by the components (Eigenvalue)\n",
    "model.explained_variance_"
   ]
  },
  {
   "cell_type": "code",
   "execution_count": 12,
   "metadata": {},
   "outputs": [],
   "source": [
    "# Transform the original data\n",
    "mat_pca = model.transform(mat) # Data transformeres til den nye dimensionalitet"
   ]
  },
  {
   "cell_type": "code",
   "execution_count": 13,
   "metadata": {},
   "outputs": [
    {
     "data": {
      "text/plain": [
       "array([[-2.51079541e+00, -6.88247202e-01,  4.44089210e-16],\n",
       "       [-3.58685058e-01,  1.14707867e+00, -2.22044605e-16],\n",
       "       [ 2.86948046e+00, -4.58831468e-01,  0.00000000e+00]])"
      ]
     },
     "execution_count": 13,
     "metadata": {},
     "output_type": "execute_result"
    }
   ],
   "source": [
    "mat_pca"
   ]
  },
  {
   "cell_type": "markdown",
   "metadata": {},
   "source": [
    "## Eksempel iris"
   ]
  },
  {
   "cell_type": "code",
   "execution_count": 14,
   "metadata": {},
   "outputs": [],
   "source": [
    "# load dataset into Pandas DataFrame\n",
    "data = pd.read_csv(\"https://archive.ics.uci.edu/ml/machine-learning-databases/iris/iris.data\", \n",
    "                 names=['sepal length','sepal width','petal length','petal width','species'])"
   ]
  },
  {
   "cell_type": "code",
   "execution_count": 15,
   "metadata": {},
   "outputs": [
    {
     "name": "stdout",
     "output_type": "stream",
     "text": [
      "<class 'pandas.core.frame.DataFrame'>\n",
      "RangeIndex: 150 entries, 0 to 149\n",
      "Data columns (total 5 columns):\n",
      "sepal length    150 non-null float64\n",
      "sepal width     150 non-null float64\n",
      "petal length    150 non-null float64\n",
      "petal width     150 non-null float64\n",
      "species         150 non-null object\n",
      "dtypes: float64(4), object(1)\n",
      "memory usage: 6.0+ KB\n"
     ]
    }
   ],
   "source": [
    "# Check data types\n",
    "data.info()"
   ]
  },
  {
   "cell_type": "code",
   "execution_count": 16,
   "metadata": {},
   "outputs": [
    {
     "data": {
      "text/html": [
       "<div>\n",
       "<style scoped>\n",
       "    .dataframe tbody tr th:only-of-type {\n",
       "        vertical-align: middle;\n",
       "    }\n",
       "\n",
       "    .dataframe tbody tr th {\n",
       "        vertical-align: top;\n",
       "    }\n",
       "\n",
       "    .dataframe thead th {\n",
       "        text-align: right;\n",
       "    }\n",
       "</style>\n",
       "<table border=\"1\" class=\"dataframe\">\n",
       "  <thead>\n",
       "    <tr style=\"text-align: right;\">\n",
       "      <th></th>\n",
       "      <th>sepal length</th>\n",
       "      <th>sepal width</th>\n",
       "      <th>petal length</th>\n",
       "      <th>petal width</th>\n",
       "      <th>species</th>\n",
       "    </tr>\n",
       "  </thead>\n",
       "  <tbody>\n",
       "    <tr>\n",
       "      <td>0</td>\n",
       "      <td>5.100</td>\n",
       "      <td>3.500</td>\n",
       "      <td>1.400</td>\n",
       "      <td>0.200</td>\n",
       "      <td>Iris-setosa</td>\n",
       "    </tr>\n",
       "    <tr>\n",
       "      <td>1</td>\n",
       "      <td>4.900</td>\n",
       "      <td>3.000</td>\n",
       "      <td>1.400</td>\n",
       "      <td>0.200</td>\n",
       "      <td>Iris-setosa</td>\n",
       "    </tr>\n",
       "    <tr>\n",
       "      <td>2</td>\n",
       "      <td>4.700</td>\n",
       "      <td>3.200</td>\n",
       "      <td>1.300</td>\n",
       "      <td>0.200</td>\n",
       "      <td>Iris-setosa</td>\n",
       "    </tr>\n",
       "    <tr>\n",
       "      <td>3</td>\n",
       "      <td>4.600</td>\n",
       "      <td>3.100</td>\n",
       "      <td>1.500</td>\n",
       "      <td>0.200</td>\n",
       "      <td>Iris-setosa</td>\n",
       "    </tr>\n",
       "    <tr>\n",
       "      <td>4</td>\n",
       "      <td>5.000</td>\n",
       "      <td>3.600</td>\n",
       "      <td>1.400</td>\n",
       "      <td>0.200</td>\n",
       "      <td>Iris-setosa</td>\n",
       "    </tr>\n",
       "  </tbody>\n",
       "</table>\n",
       "</div>"
      ],
      "text/plain": [
       "   sepal length  sepal width  petal length  petal width      species\n",
       "0         5.100        3.500         1.400        0.200  Iris-setosa\n",
       "1         4.900        3.000         1.400        0.200  Iris-setosa\n",
       "2         4.700        3.200         1.300        0.200  Iris-setosa\n",
       "3         4.600        3.100         1.500        0.200  Iris-setosa\n",
       "4         5.000        3.600         1.400        0.200  Iris-setosa"
      ]
     },
     "execution_count": 16,
     "metadata": {},
     "output_type": "execute_result"
    }
   ],
   "source": [
    "# Print the first 5 rows\n",
    "data.head()"
   ]
  },
  {
   "cell_type": "code",
   "execution_count": 17,
   "metadata": {},
   "outputs": [
    {
     "data": {
      "text/html": [
       "<div>\n",
       "<style scoped>\n",
       "    .dataframe tbody tr th:only-of-type {\n",
       "        vertical-align: middle;\n",
       "    }\n",
       "\n",
       "    .dataframe tbody tr th {\n",
       "        vertical-align: top;\n",
       "    }\n",
       "\n",
       "    .dataframe thead th {\n",
       "        text-align: right;\n",
       "    }\n",
       "</style>\n",
       "<table border=\"1\" class=\"dataframe\">\n",
       "  <thead>\n",
       "    <tr style=\"text-align: right;\">\n",
       "      <th></th>\n",
       "      <th>sepal length</th>\n",
       "      <th>sepal width</th>\n",
       "      <th>petal length</th>\n",
       "      <th>petal width</th>\n",
       "    </tr>\n",
       "  </thead>\n",
       "  <tbody>\n",
       "    <tr>\n",
       "      <td>count</td>\n",
       "      <td>150.000</td>\n",
       "      <td>150.000</td>\n",
       "      <td>150.000</td>\n",
       "      <td>150.000</td>\n",
       "    </tr>\n",
       "    <tr>\n",
       "      <td>mean</td>\n",
       "      <td>5.843</td>\n",
       "      <td>3.054</td>\n",
       "      <td>3.759</td>\n",
       "      <td>1.199</td>\n",
       "    </tr>\n",
       "    <tr>\n",
       "      <td>std</td>\n",
       "      <td>0.828</td>\n",
       "      <td>0.434</td>\n",
       "      <td>1.764</td>\n",
       "      <td>0.763</td>\n",
       "    </tr>\n",
       "    <tr>\n",
       "      <td>min</td>\n",
       "      <td>4.300</td>\n",
       "      <td>2.000</td>\n",
       "      <td>1.000</td>\n",
       "      <td>0.100</td>\n",
       "    </tr>\n",
       "    <tr>\n",
       "      <td>25%</td>\n",
       "      <td>5.100</td>\n",
       "      <td>2.800</td>\n",
       "      <td>1.600</td>\n",
       "      <td>0.300</td>\n",
       "    </tr>\n",
       "    <tr>\n",
       "      <td>50%</td>\n",
       "      <td>5.800</td>\n",
       "      <td>3.000</td>\n",
       "      <td>4.350</td>\n",
       "      <td>1.300</td>\n",
       "    </tr>\n",
       "    <tr>\n",
       "      <td>75%</td>\n",
       "      <td>6.400</td>\n",
       "      <td>3.300</td>\n",
       "      <td>5.100</td>\n",
       "      <td>1.800</td>\n",
       "    </tr>\n",
       "    <tr>\n",
       "      <td>max</td>\n",
       "      <td>7.900</td>\n",
       "      <td>4.400</td>\n",
       "      <td>6.900</td>\n",
       "      <td>2.500</td>\n",
       "    </tr>\n",
       "  </tbody>\n",
       "</table>\n",
       "</div>"
      ],
      "text/plain": [
       "       sepal length  sepal width  petal length  petal width\n",
       "count       150.000      150.000       150.000      150.000\n",
       "mean          5.843        3.054         3.759        1.199\n",
       "std           0.828        0.434         1.764        0.763\n",
       "min           4.300        2.000         1.000        0.100\n",
       "25%           5.100        2.800         1.600        0.300\n",
       "50%           5.800        3.000         4.350        1.300\n",
       "75%           6.400        3.300         5.100        1.800\n",
       "max           7.900        4.400         6.900        2.500"
      ]
     },
     "execution_count": 17,
     "metadata": {},
     "output_type": "execute_result"
    }
   ],
   "source": [
    "# Descriptive statistics\n",
    "data.describe()"
   ]
  },
  {
   "cell_type": "code",
   "execution_count": 20,
   "metadata": {},
   "outputs": [
    {
     "data": {
      "text/plain": [
       "<seaborn.axisgrid.PairGrid at 0x20c5eb45188>"
      ]
     },
     "execution_count": 20,
     "metadata": {},
     "output_type": "execute_result"
    },
    {
     "data": {
      "image/png": "[encoded data removed]",
      "text/plain": [
       "<Figure size 815.875x720 with 20 Axes>"
      ]
     },
     "metadata": {
      "needs_background": "light"
     },
     "output_type": "display_data"
    }
   ],
   "source": [
    "# Here, one of my very favorite visualizations... save that one.\n",
    "# Sns pairplot provides a matrix with scatters on the triangles, and the distribution on the diagonal\n",
    "sns.pairplot(data, hue = 'species') # , hue='species'"
   ]
  },
  {
   "cell_type": "code",
   "execution_count": 19,
   "metadata": {},
   "outputs": [
    {
     "data": {
      "text/plain": [
       "<matplotlib.axes._subplots.AxesSubplot at 0x20c5e8b5f88>"
      ]
     },
     "execution_count": 19,
     "metadata": {},
     "output_type": "execute_result"
    },
    {
     "data": {
      "image/png": "[encoded data removed]",
      "text/plain": [
       "<Figure size 432x288 with 2 Axes>"
      ]
     },
     "metadata": {
      "needs_background": "light"
     },
     "output_type": "display_data"
    }
   ],
   "source": [
    "# And lastly, a correlation plot\n",
    "sns.heatmap(data.corr())"
   ]
  },
  {
   "cell_type": "markdown",
   "metadata": {},
   "source": [
    "### Preprocessing"
   ]
  },
  {
   "cell_type": "code",
   "execution_count": 22,
   "metadata": {},
   "outputs": [
    {
     "ename": "KeyError",
     "evalue": "\"None of ['species'] are in the columns\"",
     "output_type": "error",
     "traceback": [
      "\u001b[1;31m---------------------------------------------------------------------------\u001b[0m",
      "\u001b[1;31mKeyError\u001b[0m                                  Traceback (most recent call last)",
      "\u001b[1;32m<ipython-input-22-2ac7a8934bff>\u001b[0m in \u001b[0;36m<module>\u001b[1;34m\u001b[0m\n\u001b[0;32m      1\u001b[0m \u001b[1;31m# Transfer the (categorical) outcome of interest to the index (PCA only works with numerical data)\u001b[0m\u001b[1;33m\u001b[0m\u001b[1;33m\u001b[0m\u001b[1;33m\u001b[0m\u001b[0m\n\u001b[1;32m----> 2\u001b[1;33m \u001b[0mdata\u001b[0m\u001b[1;33m.\u001b[0m\u001b[0mset_index\u001b[0m\u001b[1;33m(\u001b[0m\u001b[1;34m'species'\u001b[0m\u001b[1;33m,\u001b[0m \u001b[0minplace\u001b[0m\u001b[1;33m=\u001b[0m\u001b[1;32mTrue\u001b[0m\u001b[1;33m)\u001b[0m\u001b[1;33m\u001b[0m\u001b[1;33m\u001b[0m\u001b[0m\n\u001b[0m",
      "\u001b[1;32m~\\AppData\\Local\\Continuum\\anaconda3\\lib\\site-packages\\pandas\\core\\frame.py\u001b[0m in \u001b[0;36mset_index\u001b[1;34m(self, keys, drop, append, inplace, verify_integrity)\u001b[0m\n\u001b[0;32m   4394\u001b[0m \u001b[1;33m\u001b[0m\u001b[0m\n\u001b[0;32m   4395\u001b[0m         \u001b[1;32mif\u001b[0m \u001b[0mmissing\u001b[0m\u001b[1;33m:\u001b[0m\u001b[1;33m\u001b[0m\u001b[1;33m\u001b[0m\u001b[0m\n\u001b[1;32m-> 4396\u001b[1;33m             \u001b[1;32mraise\u001b[0m \u001b[0mKeyError\u001b[0m\u001b[1;33m(\u001b[0m\u001b[1;34m\"None of {} are in the columns\"\u001b[0m\u001b[1;33m.\u001b[0m\u001b[0mformat\u001b[0m\u001b[1;33m(\u001b[0m\u001b[0mmissing\u001b[0m\u001b[1;33m)\u001b[0m\u001b[1;33m)\u001b[0m\u001b[1;33m\u001b[0m\u001b[1;33m\u001b[0m\u001b[0m\n\u001b[0m\u001b[0;32m   4397\u001b[0m \u001b[1;33m\u001b[0m\u001b[0m\n\u001b[0;32m   4398\u001b[0m         \u001b[1;32mif\u001b[0m \u001b[0minplace\u001b[0m\u001b[1;33m:\u001b[0m\u001b[1;33m\u001b[0m\u001b[1;33m\u001b[0m\u001b[0m\n",
      "\u001b[1;31mKeyError\u001b[0m: \"None of ['species'] are in the columns\""
     ]
    }
   ],
   "source": [
    "# Transfer the (categorical) outcome of interest to the index (PCA only works with numerical data)\n",
    "data.set_index('species', inplace=True)"
   ]
  },
  {
   "cell_type": "code",
   "execution_count": 24,
   "metadata": {},
   "outputs": [],
   "source": [
    "# Let's standard-scale our data. For hver feature/variabel trækkes gennemsnittet fra og divideres med standardafvigelsen. Hermed normaliseres skalaerne for variablene, således at variable med stor spedning ikke dominerer analysen\n",
    "from sklearn.preprocessing import StandardScaler\n",
    "scaler = StandardScaler()\n",
    "data_scaled = scaler.fit_transform(data)"
   ]
  },
  {
   "cell_type": "code",
   "execution_count": 25,
   "metadata": {},
   "outputs": [
    {
     "data": {
      "text/html": [
       "<div>\n",
       "<style scoped>\n",
       "    .dataframe tbody tr th:only-of-type {\n",
       "        vertical-align: middle;\n",
       "    }\n",
       "\n",
       "    .dataframe tbody tr th {\n",
       "        vertical-align: top;\n",
       "    }\n",
       "\n",
       "    .dataframe thead th {\n",
       "        text-align: right;\n",
       "    }\n",
       "</style>\n",
       "<table border=\"1\" class=\"dataframe\">\n",
       "  <thead>\n",
       "    <tr style=\"text-align: right;\">\n",
       "      <th></th>\n",
       "      <th>sepal length</th>\n",
       "      <th>sepal width</th>\n",
       "      <th>petal length</th>\n",
       "      <th>petal width</th>\n",
       "    </tr>\n",
       "  </thead>\n",
       "  <tbody>\n",
       "    <tr>\n",
       "      <td>count</td>\n",
       "      <td>150.000</td>\n",
       "      <td>150.000</td>\n",
       "      <td>150.000</td>\n",
       "      <td>150.000</td>\n",
       "    </tr>\n",
       "    <tr>\n",
       "      <td>mean</td>\n",
       "      <td>-0.000</td>\n",
       "      <td>-0.000</td>\n",
       "      <td>0.000</td>\n",
       "      <td>0.000</td>\n",
       "    </tr>\n",
       "    <tr>\n",
       "      <td>std</td>\n",
       "      <td>1.003</td>\n",
       "      <td>1.003</td>\n",
       "      <td>1.003</td>\n",
       "      <td>1.003</td>\n",
       "    </tr>\n",
       "    <tr>\n",
       "      <td>min</td>\n",
       "      <td>-1.870</td>\n",
       "      <td>-2.439</td>\n",
       "      <td>-1.569</td>\n",
       "      <td>-1.444</td>\n",
       "    </tr>\n",
       "    <tr>\n",
       "      <td>25%</td>\n",
       "      <td>-0.901</td>\n",
       "      <td>-0.588</td>\n",
       "      <td>-1.228</td>\n",
       "      <td>-1.182</td>\n",
       "    </tr>\n",
       "    <tr>\n",
       "      <td>50%</td>\n",
       "      <td>-0.053</td>\n",
       "      <td>-0.125</td>\n",
       "      <td>0.336</td>\n",
       "      <td>0.133</td>\n",
       "    </tr>\n",
       "    <tr>\n",
       "      <td>75%</td>\n",
       "      <td>0.675</td>\n",
       "      <td>0.569</td>\n",
       "      <td>0.763</td>\n",
       "      <td>0.791</td>\n",
       "    </tr>\n",
       "    <tr>\n",
       "      <td>max</td>\n",
       "      <td>2.492</td>\n",
       "      <td>3.115</td>\n",
       "      <td>1.786</td>\n",
       "      <td>1.711</td>\n",
       "    </tr>\n",
       "  </tbody>\n",
       "</table>\n",
       "</div>"
      ],
      "text/plain": [
       "       sepal length  sepal width  petal length  petal width\n",
       "count       150.000      150.000       150.000      150.000\n",
       "mean         -0.000       -0.000         0.000        0.000\n",
       "std           1.003        1.003         1.003        1.003\n",
       "min          -1.870       -2.439        -1.569       -1.444\n",
       "25%          -0.901       -0.588        -1.228       -1.182\n",
       "50%          -0.053       -0.125         0.336        0.133\n",
       "75%           0.675        0.569         0.763        0.791\n",
       "max           2.492        3.115         1.786        1.711"
      ]
     },
     "execution_count": 25,
     "metadata": {},
     "output_type": "execute_result"
    }
   ],
   "source": [
    "# What are mean and Sd now? <- Nu samme gsn og std\n",
    "pd.DataFrame(data_scaled, columns=data.columns).describe()"
   ]
  },
  {
   "cell_type": "code",
   "execution_count": 26,
   "metadata": {},
   "outputs": [],
   "source": [
    "# Instantiate a PCA object\n",
    "model = PCA() # Number of components needs to be defined. We just for illustration take about half of the numbers of features"
   ]
  },
  {
   "cell_type": "code",
   "execution_count": 27,
   "metadata": {},
   "outputs": [
    {
     "data": {
      "text/plain": [
       "PCA(copy=True, iterated_power='auto', n_components=None, random_state=None,\n",
       "    svd_solver='auto', tol=0.0, whiten=False)"
      ]
     },
     "execution_count": 27,
     "metadata": {},
     "output_type": "execute_result"
    }
   ],
   "source": [
    "# Fitr the model\n",
    "model.fit(data_scaled)"
   ]
  },
  {
   "cell_type": "code",
   "execution_count": 28,
   "metadata": {},
   "outputs": [],
   "source": [
    "# Fit and transform the data\n",
    "data_reduced = model.transform(data_scaled)"
   ]
  },
  {
   "cell_type": "code",
   "execution_count": 29,
   "metadata": {},
   "outputs": [
    {
     "data": {
      "text/plain": [
       "<matplotlib.axes._subplots.AxesSubplot at 0x20c5f1d1148>"
      ]
     },
     "execution_count": 29,
     "metadata": {},
     "output_type": "execute_result"
    },
    {
     "data": {
      "image/png": "[encoded data removed]",
      "text/plain": [
       "<Figure size 1080x720 with 1 Axes>"
      ]
     },
     "metadata": {},
     "output_type": "display_data"
    }
   ],
   "source": [
    "plot_data = pd.DataFrame({'evr': model.explained_variance_ratio_, 'cumsum_evr': np.cumsum(model.explained_variance_ratio_)}).stack()\n",
    "sns.set(rc={'figure.figsize':(15,10)})\n",
    "sns.lineplot(y = plot_data.values, x = plot_data.index.get_level_values(0), hue=plot_data.index.get_level_values(1))"
   ]
  },
  {
   "cell_type": "code",
   "execution_count": 30,
   "metadata": {},
   "outputs": [
    {
     "data": {
      "image/png": "[encoded data removed]",
      "text/plain": [
       "<Figure size 1080x720 with 1 Axes>"
      ]
     },
     "metadata": {},
     "output_type": "display_data"
    }
   ],
   "source": [
    "# Scatter plot of the first 2 componentws\n",
    "sns.scatterplot(x = data_reduced[:,0], y = data_reduced[:,1])\n",
    "plt.axis('equal')\n",
    "plt.show()"
   ]
  },
  {
   "cell_type": "code",
   "execution_count": 31,
   "metadata": {},
   "outputs": [
    {
     "data": {
      "text/plain": [
       "<matplotlib.axes._subplots.AxesSubplot at 0x20c5f656648>"
      ]
     },
     "execution_count": 31,
     "metadata": {},
     "output_type": "execute_result"
    },
    {
     "data": {
      "image/png": "[encoded data removed]",
      "text/plain": [
       "<Figure size 1080x720 with 2 Axes>"
      ]
     },
     "metadata": {},
     "output_type": "display_data"
    }
   ],
   "source": [
    "# Correlation of the components\n",
    "sns.heatmap(pd.DataFrame(data_reduced).corr())"
   ]
  },
  {
   "cell_type": "code",
   "execution_count": 32,
   "metadata": {},
   "outputs": [],
   "source": [
    "# Get the mean of the grain samples: mean\n",
    "mean = model.mean_\n",
    "\n",
    "# Get the first principal component: first_pc\n",
    "first_pc = model.components_[0,:]\n",
    "second_pc = model.components_[1,:]"
   ]
  },
  {
   "cell_type": "code",
   "execution_count": 33,
   "metadata": {},
   "outputs": [
    {
     "data": {
      "image/png": "[encoded data removed]",
      "text/plain": [
       "<Figure size 1080x720 with 1 Axes>"
      ]
     },
     "metadata": {},
     "output_type": "display_data"
    }
   ],
   "source": [
    "# Make a scatter plot of the untransformed points\n",
    "plt.scatter(data_scaled[:,0], data_scaled[:,1])\n",
    "\n",
    "# Plot first_pc as an arrow, starting at mean\n",
    "plt.arrow(mean[0], mean[1], first_pc[0], first_pc[1], color='red', width=0.01)\n",
    "plt.arrow(mean[0], mean[1], second_pc[0], second_pc[1], color='green', width=0.01)\n",
    "\n",
    "# Keep axes on same scale\n",
    "plt.axis('equal')\n",
    "plt.show()"
   ]
  },
  {
   "cell_type": "code",
   "execution_count": 34,
   "metadata": {},
   "outputs": [
    {
     "data": {
      "image/png": "[encoded data removed]",
      "text/plain": [
       "<Figure size 1080x720 with 1 Axes>"
      ]
     },
     "metadata": {},
     "output_type": "display_data"
    }
   ],
   "source": [
    "# Make a scatter plot of the untransformed points\n",
    "plt.scatter(data_scaled[:,2], data_scaled[:,3])\n",
    "\n",
    "# Plot first_pc as an arrow, starting at mean\n",
    "plt.arrow(mean[0], mean[1], first_pc[2], first_pc[3], color='red', width=0.01)\n",
    "plt.arrow(mean[0], mean[1], second_pc[2], second_pc[3], color='green', width=0.01)\n",
    "\n",
    "# Keep axes on same scale\n",
    "plt.axis('equal')\n",
    "plt.show()"
   ]
  },
  {
   "cell_type": "code",
   "execution_count": 35,
   "metadata": {},
   "outputs": [],
   "source": [
    "pcscores = pd.DataFrame(data_reduced)\n",
    "loadings = pd.DataFrame(model.components_, columns=data.columns)\n",
    "loadings.index = ['PC'+str(i+1) for i in range(len(pcscores.columns))]"
   ]
  },
  {
   "cell_type": "code",
   "execution_count": 36,
   "metadata": {},
   "outputs": [
    {
     "data": {
      "image/png": "[encoded data removed]",
      "text/plain": [
       "<Figure size 1080x720 with 2 Axes>"
      ]
     },
     "metadata": {},
     "output_type": "display_data"
    }
   ],
   "source": [
    "ax = sns.heatmap(loadings.transpose(), center=0, linewidths=0.5, \n",
    "                 cmap=\"bone\", vmin=-1, vmax=1, annot=True)"
   ]
  },
  {
   "cell_type": "markdown",
   "metadata": {},
   "source": [
    "### Eksempel: The nomad list"
   ]
  },
  {
   "cell_type": "code",
   "execution_count": 40,
   "metadata": {},
   "outputs": [],
   "source": [
    "# We open the data directly from Github\n",
    "cities = pd.read_csv('https://github.com/SDS-AAU/M1-2019/raw/master/data/nomad_cities.csv', sep='\\t')\n",
    "# sep='\\t' angiver den er tabulatorsepareret"
   ]
  },
  {
   "cell_type": "code",
   "execution_count": 38,
   "metadata": {},
   "outputs": [
    {
     "data": {
      "text/plain": [
       "<bound method DataFrame.info of      Unnamed: 0  coffee_in_cafe  cost_beer  cost_coworking  cost_expat  \\\n",
       "0             0           1.730      1.730         152.410        1273   \n",
       "1             1           0.850      0.850          98.880         780   \n",
       "2             2           1.990      1.990         159.130        1653   \n",
       "3             3           1.880      1.880          47.010        1640   \n",
       "4             4           5.000      5.000         200.000        3309   \n",
       "..          ...             ...        ...             ...         ...   \n",
       "776         776           4.000      4.000          28.580         332   \n",
       "777         777           2.000      2.000         183.000        1453   \n",
       "778         778           1.600      1.600          32.010         760   \n",
       "779         779           5.000      5.000         360.000        1441   \n",
       "780         780           0.000      0.000         182.690        3749   \n",
       "\n",
       "     cost_nomad  female_friendly       fragile_states_index  \\\n",
       "0          1364            1.000                       52.7   \n",
       "1           777            0.800                       78.8   \n",
       "2          1639            1.000                       40.8   \n",
       "3          1545            1.000  DotMap(__next__=DotMap())   \n",
       "4          3028            0.800                         34   \n",
       "..          ...              ...                        ...   \n",
       "776        2637            0.200                      101.7   \n",
       "777        2980            0.200                      104.7   \n",
       "778        1099            0.400                       80.2   \n",
       "779        5009            0.200                       93.9   \n",
       "780       10121            0.200                      104.7   \n",
       "\n",
       "     free_wifi_available freedom_score  ...  nightlife  nomadScore  \\\n",
       "0                  0.400           0.6  ...      1.000       1.000   \n",
       "1                  0.600           0.2  ...      0.400       0.950   \n",
       "2                  0.600           0.8  ...      1.000       0.940   \n",
       "3                  1.000           0.6  ...      0.600       0.940   \n",
       "4                  0.600           0.6  ...      1.000       0.940   \n",
       "..                   ...           ...  ...        ...         ...   \n",
       "776                0.400           0.2  ...      0.200       0.180   \n",
       "777                0.400           0.2  ...      0.200       0.170   \n",
       "778                0.600           0.2  ...      1.000       0.160   \n",
       "779                0.200           0.2  ...      0.400       0.150   \n",
       "780                0.200           0.2  ...      0.200       0.000   \n",
       "\n",
       "     nomad_score                peace_score       place  places_to_work  \\\n",
       "0          1.000                        0.8    Budapest           1.000   \n",
       "1          0.950                        0.4  Chiang Mai           0.800   \n",
       "2          0.940                        0.8      Prague           1.000   \n",
       "3          0.940  DotMap(__next__=DotMap())      Taipei           1.000   \n",
       "4          0.940                        0.8      Austin           1.000   \n",
       "..           ...                        ...         ...             ...   \n",
       "776        0.180                        0.2  Bahawalpur           0.400   \n",
       "777        0.170                        0.2     Baghdad           0.400   \n",
       "778        0.160                        0.4        Cali           0.400   \n",
       "779        0.150                        0.2   Pyongyang           0.200   \n",
       "780        0.000                        0.2       Basra           0.200   \n",
       "\n",
       "     press_freedom_index  racism  safety  weed  \n",
       "0                  28.17   0.400   0.600     0  \n",
       "1                  44.53   0.400   0.800     0  \n",
       "2                  16.66   0.420   0.800     1  \n",
       "3                  24.37   0.000   1.000     0  \n",
       "4                  22.49   0.800   0.730     0  \n",
       "..                   ...     ...     ...   ...  \n",
       "776                48.52   0.200   0.200     0  \n",
       "777                54.35   0.600   0.200     0  \n",
       "778                44.11   0.400   0.200     1  \n",
       "779                83.76   0.000   0.200     0  \n",
       "780                54.35   0.200   0.200     0  \n",
       "\n",
       "[781 rows x 27 columns]>"
      ]
     },
     "execution_count": 38,
     "metadata": {},
     "output_type": "execute_result"
    }
   ],
   "source": [
    "# Data structures\n",
    "cities.info"
   ]
  },
  {
   "cell_type": "code",
   "execution_count": 39,
   "metadata": {},
   "outputs": [
    {
     "data": {
      "text/html": [
       "<div>\n",
       "<style scoped>\n",
       "    .dataframe tbody tr th:only-of-type {\n",
       "        vertical-align: middle;\n",
       "    }\n",
       "\n",
       "    .dataframe tbody tr th {\n",
       "        vertical-align: top;\n",
       "    }\n",
       "\n",
       "    .dataframe thead th {\n",
       "        text-align: right;\n",
       "    }\n",
       "</style>\n",
       "<table border=\"1\" class=\"dataframe\">\n",
       "  <thead>\n",
       "    <tr style=\"text-align: right;\">\n",
       "      <th></th>\n",
       "      <th>Unnamed: 0</th>\n",
       "      <th>coffee_in_cafe</th>\n",
       "      <th>cost_beer</th>\n",
       "      <th>cost_coworking</th>\n",
       "      <th>cost_expat</th>\n",
       "      <th>cost_nomad</th>\n",
       "      <th>female_friendly</th>\n",
       "      <th>fragile_states_index</th>\n",
       "      <th>free_wifi_available</th>\n",
       "      <th>freedom_score</th>\n",
       "      <th>...</th>\n",
       "      <th>nightlife</th>\n",
       "      <th>nomadScore</th>\n",
       "      <th>nomad_score</th>\n",
       "      <th>peace_score</th>\n",
       "      <th>place</th>\n",
       "      <th>places_to_work</th>\n",
       "      <th>press_freedom_index</th>\n",
       "      <th>racism</th>\n",
       "      <th>safety</th>\n",
       "      <th>weed</th>\n",
       "    </tr>\n",
       "  </thead>\n",
       "  <tbody>\n",
       "    <tr>\n",
       "      <td>0</td>\n",
       "      <td>0</td>\n",
       "      <td>1.730</td>\n",
       "      <td>1.730</td>\n",
       "      <td>152.410</td>\n",
       "      <td>1273</td>\n",
       "      <td>1364</td>\n",
       "      <td>1.000</td>\n",
       "      <td>52.7</td>\n",
       "      <td>0.400</td>\n",
       "      <td>0.6</td>\n",
       "      <td>...</td>\n",
       "      <td>1.000</td>\n",
       "      <td>1.000</td>\n",
       "      <td>1.000</td>\n",
       "      <td>0.8</td>\n",
       "      <td>Budapest</td>\n",
       "      <td>1.000</td>\n",
       "      <td>28.17</td>\n",
       "      <td>0.400</td>\n",
       "      <td>0.600</td>\n",
       "      <td>0</td>\n",
       "    </tr>\n",
       "    <tr>\n",
       "      <td>1</td>\n",
       "      <td>1</td>\n",
       "      <td>0.850</td>\n",
       "      <td>0.850</td>\n",
       "      <td>98.880</td>\n",
       "      <td>780</td>\n",
       "      <td>777</td>\n",
       "      <td>0.800</td>\n",
       "      <td>78.8</td>\n",
       "      <td>0.600</td>\n",
       "      <td>0.2</td>\n",
       "      <td>...</td>\n",
       "      <td>0.400</td>\n",
       "      <td>0.950</td>\n",
       "      <td>0.950</td>\n",
       "      <td>0.4</td>\n",
       "      <td>Chiang Mai</td>\n",
       "      <td>0.800</td>\n",
       "      <td>44.53</td>\n",
       "      <td>0.400</td>\n",
       "      <td>0.800</td>\n",
       "      <td>0</td>\n",
       "    </tr>\n",
       "    <tr>\n",
       "      <td>2</td>\n",
       "      <td>2</td>\n",
       "      <td>1.990</td>\n",
       "      <td>1.990</td>\n",
       "      <td>159.130</td>\n",
       "      <td>1653</td>\n",
       "      <td>1639</td>\n",
       "      <td>1.000</td>\n",
       "      <td>40.8</td>\n",
       "      <td>0.600</td>\n",
       "      <td>0.8</td>\n",
       "      <td>...</td>\n",
       "      <td>1.000</td>\n",
       "      <td>0.940</td>\n",
       "      <td>0.940</td>\n",
       "      <td>0.8</td>\n",
       "      <td>Prague</td>\n",
       "      <td>1.000</td>\n",
       "      <td>16.66</td>\n",
       "      <td>0.420</td>\n",
       "      <td>0.800</td>\n",
       "      <td>1</td>\n",
       "    </tr>\n",
       "    <tr>\n",
       "      <td>3</td>\n",
       "      <td>3</td>\n",
       "      <td>1.880</td>\n",
       "      <td>1.880</td>\n",
       "      <td>47.010</td>\n",
       "      <td>1640</td>\n",
       "      <td>1545</td>\n",
       "      <td>1.000</td>\n",
       "      <td>DotMap(__next__=DotMap())</td>\n",
       "      <td>1.000</td>\n",
       "      <td>0.6</td>\n",
       "      <td>...</td>\n",
       "      <td>0.600</td>\n",
       "      <td>0.940</td>\n",
       "      <td>0.940</td>\n",
       "      <td>DotMap(__next__=DotMap())</td>\n",
       "      <td>Taipei</td>\n",
       "      <td>1.000</td>\n",
       "      <td>24.37</td>\n",
       "      <td>0.000</td>\n",
       "      <td>1.000</td>\n",
       "      <td>0</td>\n",
       "    </tr>\n",
       "    <tr>\n",
       "      <td>4</td>\n",
       "      <td>4</td>\n",
       "      <td>5.000</td>\n",
       "      <td>5.000</td>\n",
       "      <td>200.000</td>\n",
       "      <td>3309</td>\n",
       "      <td>3028</td>\n",
       "      <td>0.800</td>\n",
       "      <td>34</td>\n",
       "      <td>0.600</td>\n",
       "      <td>0.6</td>\n",
       "      <td>...</td>\n",
       "      <td>1.000</td>\n",
       "      <td>0.940</td>\n",
       "      <td>0.940</td>\n",
       "      <td>0.8</td>\n",
       "      <td>Austin</td>\n",
       "      <td>1.000</td>\n",
       "      <td>22.49</td>\n",
       "      <td>0.800</td>\n",
       "      <td>0.730</td>\n",
       "      <td>0</td>\n",
       "    </tr>\n",
       "  </tbody>\n",
       "</table>\n",
       "<p>5 rows × 27 columns</p>\n",
       "</div>"
      ],
      "text/plain": [
       "   Unnamed: 0  coffee_in_cafe  cost_beer  cost_coworking  cost_expat  \\\n",
       "0           0           1.730      1.730         152.410        1273   \n",
       "1           1           0.850      0.850          98.880         780   \n",
       "2           2           1.990      1.990         159.130        1653   \n",
       "3           3           1.880      1.880          47.010        1640   \n",
       "4           4           5.000      5.000         200.000        3309   \n",
       "\n",
       "   cost_nomad  female_friendly       fragile_states_index  \\\n",
       "0        1364            1.000                       52.7   \n",
       "1         777            0.800                       78.8   \n",
       "2        1639            1.000                       40.8   \n",
       "3        1545            1.000  DotMap(__next__=DotMap())   \n",
       "4        3028            0.800                         34   \n",
       "\n",
       "   free_wifi_available freedom_score  ...  nightlife  nomadScore  nomad_score  \\\n",
       "0                0.400           0.6  ...      1.000       1.000        1.000   \n",
       "1                0.600           0.2  ...      0.400       0.950        0.950   \n",
       "2                0.600           0.8  ...      1.000       0.940        0.940   \n",
       "3                1.000           0.6  ...      0.600       0.940        0.940   \n",
       "4                0.600           0.6  ...      1.000       0.940        0.940   \n",
       "\n",
       "                 peace_score       place  places_to_work  press_freedom_index  \\\n",
       "0                        0.8    Budapest           1.000                28.17   \n",
       "1                        0.4  Chiang Mai           0.800                44.53   \n",
       "2                        0.8      Prague           1.000                16.66   \n",
       "3  DotMap(__next__=DotMap())      Taipei           1.000                24.37   \n",
       "4                        0.8      Austin           1.000                22.49   \n",
       "\n",
       "   racism  safety  weed  \n",
       "0   0.400   0.600     0  \n",
       "1   0.400   0.800     0  \n",
       "2   0.420   0.800     1  \n",
       "3   0.000   1.000     0  \n",
       "4   0.800   0.730     0  \n",
       "\n",
       "[5 rows x 27 columns]"
      ]
     },
     "execution_count": 39,
     "metadata": {},
     "output_type": "execute_result"
    }
   ],
   "source": [
    "cities.head()"
   ]
  },
  {
   "cell_type": "code",
   "execution_count": 41,
   "metadata": {},
   "outputs": [
    {
     "data": {
      "text/html": [
       "<div>\n",
       "<style scoped>\n",
       "    .dataframe tbody tr th:only-of-type {\n",
       "        vertical-align: middle;\n",
       "    }\n",
       "\n",
       "    .dataframe tbody tr th {\n",
       "        vertical-align: top;\n",
       "    }\n",
       "\n",
       "    .dataframe thead th {\n",
       "        text-align: right;\n",
       "    }\n",
       "</style>\n",
       "<table border=\"1\" class=\"dataframe\">\n",
       "  <thead>\n",
       "    <tr style=\"text-align: right;\">\n",
       "      <th></th>\n",
       "      <th>Unnamed: 0</th>\n",
       "      <th>coffee_in_cafe</th>\n",
       "      <th>cost_beer</th>\n",
       "      <th>cost_coworking</th>\n",
       "      <th>cost_expat</th>\n",
       "      <th>cost_nomad</th>\n",
       "      <th>female_friendly</th>\n",
       "      <th>free_wifi_available</th>\n",
       "      <th>friendly_to_foreigners</th>\n",
       "      <th>internet_speed</th>\n",
       "      <th>...</th>\n",
       "      <th>lgbt_friendly</th>\n",
       "      <th>life_score</th>\n",
       "      <th>longitude</th>\n",
       "      <th>nightlife</th>\n",
       "      <th>nomadScore</th>\n",
       "      <th>nomad_score</th>\n",
       "      <th>places_to_work</th>\n",
       "      <th>racism</th>\n",
       "      <th>safety</th>\n",
       "      <th>weed</th>\n",
       "    </tr>\n",
       "  </thead>\n",
       "  <tbody>\n",
       "    <tr>\n",
       "      <td>count</td>\n",
       "      <td>781.000</td>\n",
       "      <td>781.000</td>\n",
       "      <td>781.000</td>\n",
       "      <td>781.000</td>\n",
       "      <td>781.000</td>\n",
       "      <td>781.000</td>\n",
       "      <td>781.000</td>\n",
       "      <td>781.000</td>\n",
       "      <td>781.000</td>\n",
       "      <td>781.000</td>\n",
       "      <td>...</td>\n",
       "      <td>781.000</td>\n",
       "      <td>781.000</td>\n",
       "      <td>781.000</td>\n",
       "      <td>781.000</td>\n",
       "      <td>781.000</td>\n",
       "      <td>781.000</td>\n",
       "      <td>781.000</td>\n",
       "      <td>781.000</td>\n",
       "      <td>781.000</td>\n",
       "      <td>781.000</td>\n",
       "    </tr>\n",
       "    <tr>\n",
       "      <td>mean</td>\n",
       "      <td>390.000</td>\n",
       "      <td>3.296</td>\n",
       "      <td>3.296</td>\n",
       "      <td>210.360</td>\n",
       "      <td>1880.431</td>\n",
       "      <td>2332.348</td>\n",
       "      <td>0.645</td>\n",
       "      <td>0.561</td>\n",
       "      <td>0.737</td>\n",
       "      <td>13.589</td>\n",
       "      <td>...</td>\n",
       "      <td>0.545</td>\n",
       "      <td>0.700</td>\n",
       "      <td>14.851</td>\n",
       "      <td>0.605</td>\n",
       "      <td>0.649</td>\n",
       "      <td>0.649</td>\n",
       "      <td>0.571</td>\n",
       "      <td>23280176929344430622638080.000</td>\n",
       "      <td>0.678</td>\n",
       "      <td>0.117</td>\n",
       "    </tr>\n",
       "    <tr>\n",
       "      <td>std</td>\n",
       "      <td>225.600</td>\n",
       "      <td>1.982</td>\n",
       "      <td>1.982</td>\n",
       "      <td>173.979</td>\n",
       "      <td>1265.411</td>\n",
       "      <td>1117.532</td>\n",
       "      <td>0.247</td>\n",
       "      <td>0.240</td>\n",
       "      <td>0.184</td>\n",
       "      <td>18.199</td>\n",
       "      <td>...</td>\n",
       "      <td>0.244</td>\n",
       "      <td>0.148</td>\n",
       "      <td>77.089</td>\n",
       "      <td>0.234</td>\n",
       "      <td>0.135</td>\n",
       "      <td>0.135</td>\n",
       "      <td>0.220</td>\n",
       "      <td>650596606331366367658246144.000</td>\n",
       "      <td>0.210</td>\n",
       "      <td>0.321</td>\n",
       "    </tr>\n",
       "    <tr>\n",
       "      <td>min</td>\n",
       "      <td>0.000</td>\n",
       "      <td>0.000</td>\n",
       "      <td>0.000</td>\n",
       "      <td>0.010</td>\n",
       "      <td>296.000</td>\n",
       "      <td>387.000</td>\n",
       "      <td>0.000</td>\n",
       "      <td>0.000</td>\n",
       "      <td>0.000</td>\n",
       "      <td>0.000</td>\n",
       "      <td>...</td>\n",
       "      <td>0.180</td>\n",
       "      <td>0.010</td>\n",
       "      <td>-157.858</td>\n",
       "      <td>0.000</td>\n",
       "      <td>0.000</td>\n",
       "      <td>0.000</td>\n",
       "      <td>0.000</td>\n",
       "      <td>0.000</td>\n",
       "      <td>0.000</td>\n",
       "      <td>0.000</td>\n",
       "    </tr>\n",
       "    <tr>\n",
       "      <td>25%</td>\n",
       "      <td>195.000</td>\n",
       "      <td>1.600</td>\n",
       "      <td>1.600</td>\n",
       "      <td>88.960</td>\n",
       "      <td>1010.000</td>\n",
       "      <td>1486.000</td>\n",
       "      <td>0.440</td>\n",
       "      <td>0.400</td>\n",
       "      <td>0.600</td>\n",
       "      <td>2.000</td>\n",
       "      <td>...</td>\n",
       "      <td>0.400</td>\n",
       "      <td>0.620</td>\n",
       "      <td>-63.000</td>\n",
       "      <td>0.400</td>\n",
       "      <td>0.550</td>\n",
       "      <td>0.550</td>\n",
       "      <td>0.400</td>\n",
       "      <td>0.400</td>\n",
       "      <td>0.600</td>\n",
       "      <td>0.000</td>\n",
       "    </tr>\n",
       "    <tr>\n",
       "      <td>50%</td>\n",
       "      <td>390.000</td>\n",
       "      <td>3.030</td>\n",
       "      <td>3.030</td>\n",
       "      <td>172.050</td>\n",
       "      <td>1646.000</td>\n",
       "      <td>2209.000</td>\n",
       "      <td>0.600</td>\n",
       "      <td>0.600</td>\n",
       "      <td>0.800</td>\n",
       "      <td>6.000</td>\n",
       "      <td>...</td>\n",
       "      <td>0.600</td>\n",
       "      <td>0.720</td>\n",
       "      <td>14.791</td>\n",
       "      <td>0.600</td>\n",
       "      <td>0.680</td>\n",
       "      <td>0.680</td>\n",
       "      <td>0.400</td>\n",
       "      <td>0.600</td>\n",
       "      <td>0.600</td>\n",
       "      <td>0.000</td>\n",
       "    </tr>\n",
       "    <tr>\n",
       "      <td>75%</td>\n",
       "      <td>585.000</td>\n",
       "      <td>4.620</td>\n",
       "      <td>4.620</td>\n",
       "      <td>277.350</td>\n",
       "      <td>2408.000</td>\n",
       "      <td>3056.000</td>\n",
       "      <td>0.800</td>\n",
       "      <td>0.800</td>\n",
       "      <td>0.800</td>\n",
       "      <td>19.000</td>\n",
       "      <td>...</td>\n",
       "      <td>0.800</td>\n",
       "      <td>0.810</td>\n",
       "      <td>77.595</td>\n",
       "      <td>0.800</td>\n",
       "      <td>0.740</td>\n",
       "      <td>0.740</td>\n",
       "      <td>0.800</td>\n",
       "      <td>0.800</td>\n",
       "      <td>0.800</td>\n",
       "      <td>0.000</td>\n",
       "    </tr>\n",
       "    <tr>\n",
       "      <td>max</td>\n",
       "      <td>780.000</td>\n",
       "      <td>13.720</td>\n",
       "      <td>13.720</td>\n",
       "      <td>1524.460</td>\n",
       "      <td>13406.000</td>\n",
       "      <td>10121.000</td>\n",
       "      <td>1.000</td>\n",
       "      <td>1.000</td>\n",
       "      <td>1.000</td>\n",
       "      <td>197.000</td>\n",
       "      <td>...</td>\n",
       "      <td>1.000</td>\n",
       "      <td>1.000</td>\n",
       "      <td>174.776</td>\n",
       "      <td>1.000</td>\n",
       "      <td>1.000</td>\n",
       "      <td>1.000</td>\n",
       "      <td>1.000</td>\n",
       "      <td>18181818181818001939777978368.000</td>\n",
       "      <td>1.000</td>\n",
       "      <td>1.000</td>\n",
       "    </tr>\n",
       "  </tbody>\n",
       "</table>\n",
       "<p>8 rows × 22 columns</p>\n",
       "</div>"
      ],
      "text/plain": [
       "       Unnamed: 0  coffee_in_cafe  cost_beer  cost_coworking  cost_expat  \\\n",
       "count     781.000         781.000    781.000         781.000     781.000   \n",
       "mean      390.000           3.296      3.296         210.360    1880.431   \n",
       "std       225.600           1.982      1.982         173.979    1265.411   \n",
       "min         0.000           0.000      0.000           0.010     296.000   \n",
       "25%       195.000           1.600      1.600          88.960    1010.000   \n",
       "50%       390.000           3.030      3.030         172.050    1646.000   \n",
       "75%       585.000           4.620      4.620         277.350    2408.000   \n",
       "max       780.000          13.720     13.720        1524.460   13406.000   \n",
       "\n",
       "       cost_nomad  female_friendly  free_wifi_available  \\\n",
       "count     781.000          781.000              781.000   \n",
       "mean     2332.348            0.645                0.561   \n",
       "std      1117.532            0.247                0.240   \n",
       "min       387.000            0.000                0.000   \n",
       "25%      1486.000            0.440                0.400   \n",
       "50%      2209.000            0.600                0.600   \n",
       "75%      3056.000            0.800                0.800   \n",
       "max     10121.000            1.000                1.000   \n",
       "\n",
       "       friendly_to_foreigners  internet_speed  ...  lgbt_friendly  life_score  \\\n",
       "count                 781.000         781.000  ...        781.000     781.000   \n",
       "mean                    0.737          13.589  ...          0.545       0.700   \n",
       "std                     0.184          18.199  ...          0.244       0.148   \n",
       "min                     0.000           0.000  ...          0.180       0.010   \n",
       "25%                     0.600           2.000  ...          0.400       0.620   \n",
       "50%                     0.800           6.000  ...          0.600       0.720   \n",
       "75%                     0.800          19.000  ...          0.800       0.810   \n",
       "max                     1.000         197.000  ...          1.000       1.000   \n",
       "\n",
       "       longitude  nightlife  nomadScore  nomad_score  places_to_work  \\\n",
       "count    781.000    781.000     781.000      781.000         781.000   \n",
       "mean      14.851      0.605       0.649        0.649           0.571   \n",
       "std       77.089      0.234       0.135        0.135           0.220   \n",
       "min     -157.858      0.000       0.000        0.000           0.000   \n",
       "25%      -63.000      0.400       0.550        0.550           0.400   \n",
       "50%       14.791      0.600       0.680        0.680           0.400   \n",
       "75%       77.595      0.800       0.740        0.740           0.800   \n",
       "max      174.776      1.000       1.000        1.000           1.000   \n",
       "\n",
       "                                 racism  safety    weed  \n",
       "count                           781.000 781.000 781.000  \n",
       "mean     23280176929344430622638080.000   0.678   0.117  \n",
       "std     650596606331366367658246144.000   0.210   0.321  \n",
       "min                               0.000   0.000   0.000  \n",
       "25%                               0.400   0.600   0.000  \n",
       "50%                               0.600   0.600   0.000  \n",
       "75%                               0.800   0.800   0.000  \n",
       "max   18181818181818001939777978368.000   1.000   1.000  \n",
       "\n",
       "[8 rows x 22 columns]"
      ]
     },
     "execution_count": 41,
     "metadata": {},
     "output_type": "execute_result"
    }
   ],
   "source": [
    "cities.describe()"
   ]
  },
  {
   "cell_type": "code",
   "execution_count": null,
   "metadata": {},
   "outputs": [],
   "source": [
    "#Load and instantiate the reversegeocoder\n",
    "!pip install rgeocoder\n",
    "from rgeocoder import ReverseGeocoder\n",
    "rg = ReverseGeocoder()"
   ]
  },
  {
   "cell_type": "code",
   "execution_count": null,
   "metadata": {},
   "outputs": [],
   "source": [
    "# That's how it works. nearest giver den nærmeste by\n",
    "location = rg.nearest(56.457, 10.039) #lat, lon"
   ]
  },
  {
   "cell_type": "code",
   "execution_count": null,
   "metadata": {},
   "outputs": [],
   "source": [
    "# Let's see what we get\n",
    "print(location.name)\n",
    "print(location.admin1)\n",
    "print(location.admin2)\n",
    "print(location.cc)"
   ]
  },
  {
   "cell_type": "code",
   "execution_count": null,
   "metadata": {},
   "outputs": [],
   "source": [
    "# A smart way to get all geocoding done in one line\n",
    "cities['countrycode'] = cities.apply(lambda t: rg.nearest(t['latitude'],t['longitude']).cc, axis=1)"
   ]
  },
  {
   "cell_type": "code",
   "execution_count": null,
   "metadata": {},
   "outputs": [],
   "source": [
    "cities.info()"
   ]
  },
  {
   "cell_type": "code",
   "execution_count": null,
   "metadata": {},
   "outputs": [],
   "source": [
    "# Download a recent country info table\n",
    "c = pd.read_csv('https://github.com/SDS-AAU/M1-2019/raw/master/data/countrylist.csv')"
   ]
  },
  {
   "cell_type": "code",
   "execution_count": null,
   "metadata": {},
   "outputs": [],
   "source": [
    "c.head()"
   ]
  },
  {
   "cell_type": "code",
   "execution_count": null,
   "metadata": {},
   "outputs": [],
   "source": [
    " # Merge this lookup table with our initial cities list\n",
    "cities = cities.merge(c, left_on='countrycode', right_on='alpha_2')"
   ]
  },
  {
   "cell_type": "code",
   "execution_count": 1,
   "metadata": {},
   "outputs": [],
   "source": [
    "# Let's select interesting variables for the analysis\n",
    "vars_analysis = [\"cost_nomad\", \"cost_coworking\", \"cost_expat\", \"coffee_in_cafe\", \"cost_beer\", # costs\n",
    "          \"places_to_work\", \"free_wifi_available\", \"internet_speed\", # work\n",
    "          \"freedom_score\", \"peace_score\", \"safety\", \"fragile_states_index\", \"press_freedom_index\", # safety & freedom\n",
    "          \"female_friendly\", \"lgbt_friendly\", \"friendly_to_foreigners\", \"racism\", # friendly\n",
    "          \"leisure\",\"life_score\",\"nightlife\",\"weed\"] # fun \n",
    "\n",
    "vars_descr = [\"nomad_score\", \"cost_nomad\", \"places_to_work\", \"freedom_score\", \"friendly_to_foreigners\", \"life_score\"]"
   ]
  },
  {
   "cell_type": "code",
   "execution_count": 2,
   "metadata": {},
   "outputs": [
    {
     "ename": "NameError",
     "evalue": "name 'cities' is not defined",
     "output_type": "error",
     "traceback": [
      "\u001b[1;31m---------------------------------------------------------------------------\u001b[0m",
      "\u001b[1;31mNameError\u001b[0m                                 Traceback (most recent call last)",
      "\u001b[1;32m<ipython-input-2-e05a86d6db58>\u001b[0m in \u001b[0;36m<module>\u001b[1;34m\u001b[0m\n\u001b[0;32m      1\u001b[0m \u001b[1;31m# And use the selection to only extract these variables into a new object\u001b[0m\u001b[1;33m\u001b[0m\u001b[1;33m\u001b[0m\u001b[1;33m\u001b[0m\u001b[0m\n\u001b[1;32m----> 2\u001b[1;33m \u001b[0mdata\u001b[0m \u001b[1;33m=\u001b[0m \u001b[0mcities\u001b[0m\u001b[1;33m[\u001b[0m\u001b[0mvars_analysis\u001b[0m\u001b[1;33m]\u001b[0m\u001b[1;33m\u001b[0m\u001b[1;33m\u001b[0m\u001b[0m\n\u001b[0m\u001b[0;32m      3\u001b[0m \u001b[0mdescr\u001b[0m \u001b[1;33m=\u001b[0m \u001b[0mcities\u001b[0m\u001b[1;33m[\u001b[0m\u001b[0mvars_descr\u001b[0m\u001b[1;33m]\u001b[0m\u001b[1;33m\u001b[0m\u001b[1;33m\u001b[0m\u001b[0m\n",
      "\u001b[1;31mNameError\u001b[0m: name 'cities' is not defined"
     ]
    }
   ],
   "source": [
    "# And use the selection to only extract these variables into a new object\n",
    "data = cities[vars_analysis]\n",
    "descr = cities[vars_descr]"
   ]
  },
  {
   "cell_type": "code",
   "execution_count": null,
   "metadata": {},
   "outputs": [],
   "source": [
    "# Quick check\n",
    "data.info()"
   ]
  },
  {
   "cell_type": "code",
   "execution_count": null,
   "metadata": {},
   "outputs": [],
   "source": [
    "print(data['peace_score'].unique())"
   ]
  },
  {
   "cell_type": "code",
   "execution_count": null,
   "metadata": {},
   "outputs": [],
   "source": [
    "print(data['freedom_score'].unique())"
   ]
  },
  {
   "cell_type": "code",
   "execution_count": null,
   "metadata": {},
   "outputs": [],
   "source": [
    "print(data['fragile_states_index'].unique())"
   ]
  },
  {
   "cell_type": "code",
   "execution_count": null,
   "metadata": {},
   "outputs": [],
   "source": [
    "print(data['press_freedom_index'].unique())"
   ]
  },
  {
   "cell_type": "code",
   "execution_count": null,
   "metadata": {},
   "outputs": [],
   "source": [
    "# This function will fo exactly that\n",
    "def floater(x):\n",
    "  try: #Try to\n",
    "    return float(x) #Turn X into a floating point number\n",
    "  except ValueError: #In case a ValueError occurs\n",
    "    return np.nan #Turn X into np.nan (missing value placeholder)"
   ]
  },
  {
   "cell_type": "code",
   "execution_count": null,
   "metadata": {},
   "outputs": [],
   "source": [
    "# map applies the defined function to every observation\n",
    "data.loc[:,'peace_score'] = data['peace_score'].map(floater)\n",
    "data.loc[:,'freedom_score'] = data['freedom_score'].map(floater)\n",
    "data.loc[:,'fragile_states_index'] = data['fragile_states_index'].map(floater)\n",
    "data.loc[:,'press_freedom_index'] = data['press_freedom_index'].map(floater)"
   ]
  },
  {
   "cell_type": "code",
   "execution_count": null,
   "metadata": {},
   "outputs": [],
   "source": [
    "# yup, some missing data...\n",
    "data.isnull().sum()"
   ]
  },
  {
   "cell_type": "code",
   "execution_count": null,
   "metadata": {},
   "outputs": [],
   "source": [
    "# Import the imputation package\n",
    "from fancyimpute import SoftImpute, SimpleFill"
   ]
  },
  {
   "cell_type": "code",
   "execution_count": null,
   "metadata": {},
   "outputs": [],
   "source": [
    "# Easy version: Just replace missing values by the mean of the column\n",
    "data_imp = SimpleFill(fill_method='mean').fit_transform(data)"
   ]
  },
  {
   "cell_type": "code",
   "execution_count": null,
   "metadata": {},
   "outputs": [],
   "source": [
    "# We can have a quick look\n",
    "pd.DataFrame(data_imp, columns=data.columns).head()"
   ]
  },
  {
   "cell_type": "code",
   "execution_count": null,
   "metadata": {},
   "outputs": [],
   "source": [
    "# Or, we go crazy and use a neural network powered method\n",
    "data_imp = SoftImpute().fit_transform(data)"
   ]
  },
  {
   "cell_type": "code",
   "execution_count": null,
   "metadata": {},
   "outputs": [],
   "source": [
    "# Let's standard-scale our data\n",
    "from sklearn.preprocessing import StandardScaler\n",
    "scaler = StandardScaler()\n",
    "\n",
    "data_scaled = scaler.fit_transform(data_imp)"
   ]
  },
  {
   "cell_type": "code",
   "execution_count": null,
   "metadata": {},
   "outputs": [],
   "source": [
    "pd.DataFrame(data_scaled, columns=data.columns).describe()"
   ]
  },
  {
   "cell_type": "markdown",
   "metadata": {},
   "source": [
    "### Executing the PCA"
   ]
  },
  {
   "cell_type": "code",
   "execution_count": null,
   "metadata": {},
   "outputs": [],
   "source": [
    "# Import the module and instantiate a PCA object\n",
    "from sklearn.decomposition import PCA\n",
    "model = PCA(n_components=7) #We pick 7 as the number of components...just because (it's a 3rd of the columns available)\n",
    "\n",
    "# Fit and transform the data\n",
    "data_reduced = model.fit_transform(data_scaled)"
   ]
  },
  {
   "cell_type": "code",
   "execution_count": null,
   "metadata": {},
   "outputs": [],
   "source": [
    "# Make sure the data shape is as it should be\n",
    "data_reduced.shape"
   ]
  },
  {
   "cell_type": "code",
   "execution_count": null,
   "metadata": {},
   "outputs": [],
   "source": [
    "plot_data = pd.DataFrame({'evr': model.explained_variance_ratio_, 'cumsum_evr': np.cumsum(model.explained_variance_ratio_)}).stack()"
   ]
  },
  {
   "cell_type": "code",
   "execution_count": null,
   "metadata": {},
   "outputs": [],
   "source": [
    "# Is 7 components really a good choice? \n",
    "sns.set(rc={'figure.figsize':(11.7,8.27)})\n",
    "sns.lineplot(y = plot_data.values, x = plot_data.index.get_level_values(0), hue=plot_data.index.get_level_values(1))"
   ]
  },
  {
   "cell_type": "code",
   "execution_count": null,
   "metadata": {},
   "outputs": [],
   "source": [
    "# How mach \"information\" do we kick out? Den akkumulerede forklarede varians\n",
    "model.explained_variance_ratio_.sum()"
   ]
  },
  {
   "cell_type": "code",
   "execution_count": null,
   "metadata": {},
   "outputs": [],
   "source": [
    "pcscores = pd.DataFrame(data_reduced)\n",
    "loadings = pd.DataFrame(model.components_, columns=data.columns)\n",
    "loadings.index = ['PC'+str(i+1) for i in range(len(pcscores.columns))]"
   ]
  },
  {
   "cell_type": "code",
   "execution_count": null,
   "metadata": {},
   "outputs": [],
   "source": [
    "ax = sns.heatmap(loadings.transpose(), center=0, linewidths=0.5, \n",
    "                 cmap=\"bone\", vmin=-1, vmax=1, annot=True)"
   ]
  },
  {
   "cell_type": "code",
   "execution_count": null,
   "metadata": {},
   "outputs": [],
   "source": [
    "# Now we can plot in our points\n",
    "plt.figure(figsize=(12,12))\n",
    "g = sns.scatterplot(data_reduced[:,0], data_reduced[:,1],\n",
    "                    legend='full', palette='viridis')\n",
    "\n",
    "legend = g.get_legend()"
   ]
  },
  {
   "cell_type": "code",
   "execution_count": null,
   "metadata": {},
   "outputs": [],
   "source": [
    "import altair as alt"
   ]
  },
  {
   "cell_type": "code",
   "execution_count": null,
   "metadata": {},
   "outputs": [],
   "source": [
    "# Define the data that we are going to use as a dataframe\n",
    "d = pd.DataFrame({'y': data_reduced[:,1],\n",
    "                 'x': data_reduced[:,0], \n",
    "                 'place': cities.place, \n",
    "                 'country': cities['alpha_2'],\n",
    "                 'region': cities['region']})"
   ]
  },
  {
   "cell_type": "code",
   "execution_count": null,
   "metadata": {},
   "outputs": [],
   "source": [
    "# Farvegrupperer på kontinent, laver det interaktivt, så man ved at føre curseren over får et tooltip med sted, land, region \n",
    "\n",
    "alt.Chart(d).mark_point().encode(\n",
    "    x='x',\n",
    "    y='y',\n",
    "    color='region',\n",
    "    tooltip=['place', 'country', 'region']\n",
    ").interactive()"
   ]
  },
  {
   "cell_type": "code",
   "execution_count": 3,
   "metadata": {},
   "outputs": [],
   "source": [
    "# Lastly, lets summarize the characteristics of the data by the different coordinates of component 1 and 2, in 4 categories."
   ]
  },
  {
   "cell_type": "code",
   "execution_count": null,
   "metadata": {},
   "outputs": [],
   "source": [
    "data['quadrant'] = 0"
   ]
  },
  {
   "cell_type": "code",
   "execution_count": null,
   "metadata": {},
   "outputs": [],
   "source": [
    "q1 = data[(d['x'] < 0) & (d['y'] < 0)].index\n",
    "q2 = data[(d['x'] < 0) & (d['y'] >= 0)].index\n",
    "q3 = data[(d['x'] >= 0) & (d['y'] < 0)].index\n",
    "q4 = data[(d['x'] >= 0) & (d['y'] >= 0)].index"
   ]
  },
  {
   "cell_type": "code",
   "execution_count": null,
   "metadata": {},
   "outputs": [],
   "source": [
    "data['quadrant'][q1] = 1\n",
    "data['quadrant'][q2] = 2\n",
    "data['quadrant'][q3] = 3\n",
    "data['quadrant'][q4] = 4"
   ]
  },
  {
   "cell_type": "code",
   "execution_count": null,
   "metadata": {},
   "outputs": [],
   "source": [
    "data.groupby(['quadrant']).mean()"
   ]
  },
  {
   "cell_type": "code",
   "execution_count": null,
   "metadata": {},
   "outputs": [],
   "source": []
  },
  {
   "cell_type": "code",
   "execution_count": null,
   "metadata": {},
   "outputs": [],
   "source": []
  },
  {
   "cell_type": "code",
   "execution_count": null,
   "metadata": {},
   "outputs": [],
   "source": []
  },
  {
   "cell_type": "code",
   "execution_count": null,
   "metadata": {},
   "outputs": [],
   "source": []
  },
  {
   "cell_type": "code",
   "execution_count": null,
   "metadata": {},
   "outputs": [],
   "source": []
  }
 ],
 "metadata": {
  "kernelspec": {
   "display_name": "Python 3",
   "language": "python",
   "name": "python3"
  },
  "language_info": {
   "codemirror_mode": {
    "name": "ipython",
    "version": 3
   },
   "file_extension": ".py",
   "mimetype": "text/x-python",
   "name": "python",
   "nbconvert_exporter": "python",
   "pygments_lexer": "ipython3",
   "version": "3.7.4"
  }
 },
 "nbformat": 4,
 "nbformat_minor": 2
}
