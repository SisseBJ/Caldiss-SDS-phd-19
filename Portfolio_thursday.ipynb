{
  "nbformat": 4,
  "nbformat_minor": 0,
  "metadata": {
    "colab": {
      "name": "Portfolio_thursday.ipynb",
      "provenance": [],
      "collapsed_sections": [],
      "include_colab_link": true
    },
    "kernelspec": {
      "name": "python3",
      "display_name": "Python 3"
    }
  },
  "cells": [
    {
      "cell_type": "markdown",
      "metadata": {
        "id": "view-in-github",
        "colab_type": "text"
      },
      "source": [
        "<a href=\"https://colab.research.google.com/github/SisseBJ/Caldiss-SDS-phd-19/blob/master/Portfolio_thursday.ipynb\" target=\"_parent\"><img src=\"https://colab.research.google.com/assets/colab-badge.svg\" alt=\"Open In Colab\"/></a>"
      ]
    },
    {
      "cell_type": "code",
      "metadata": {
        "id": "OsPJtCZ0NoxH",
        "colab_type": "code",
        "colab": {}
      },
      "source": [
        "text = \"I’ve been called many things in my life, but never an optimist. That was fine by me. I believed pessimists lived in a constant state of pleasant surprise: if you always expected the worst, things generally turned out better than you imagined. The only real problem with pessimism, I figured, was that too much of it could accidentally turn you into an optimist.\""
      ],
      "execution_count": 0,
      "outputs": []
    },
    {
      "cell_type": "code",
      "metadata": {
        "id": "CsW1jR8MOClU",
        "colab_type": "code",
        "outputId": "7d6285cb-4364-4fb0-b810-df0c34232b9c",
        "colab": {
          "base_uri": "https://localhost:8080/",
          "height": 88
        }
      },
      "source": [
        "import nltk #this part is needed on colab.\n",
        "nltk.download('punkt')\n",
        "nltk.download('stopwords')\n",
        "#----------------------------------------\n",
        "\n",
        "# Tokenizing sentences\n",
        "from nltk.tokenize import sent_tokenize\n",
        "\n",
        "# Tokenizing words\n",
        "from nltk.tokenize import word_tokenize"
      ],
      "execution_count": 0,
      "outputs": [
        {
          "output_type": "stream",
          "text": [
            "[nltk_data] Downloading package punkt to /root/nltk_data...\n",
            "[nltk_data]   Unzipping tokenizers/punkt.zip.\n",
            "[nltk_data] Downloading package stopwords to /root/nltk_data...\n",
            "[nltk_data]   Unzipping corpora/stopwords.zip.\n"
          ],
          "name": "stdout"
        }
      ]
    },
    {
      "cell_type": "code",
      "metadata": {
        "id": "CyfeKPslOCgQ",
        "colab_type": "code",
        "outputId": "f49eebb3-99f5-4210-baa9-069b99d3f2ce",
        "colab": {
          "base_uri": "https://localhost:8080/",
          "height": 55
        }
      },
      "source": [
        "# Let's get our stences.\n",
        "# Note that the full-stops at the end of each sentence are still there\n",
        "\n",
        "sentences = sent_tokenize(text)\n",
        "print(sentences)"
      ],
      "execution_count": 0,
      "outputs": [
        {
          "output_type": "stream",
          "text": [
            "['I’ve been called many things in my life, but never an optimist.', 'That was fine by me.', 'I believed pessimists lived in a constant state of pleasant surprise: if you always expected the worst, things generally turned out better than you imagined.', 'The only real problem with pessimism, I figured, was that too much of it could accidentally turn you into an optimist.']\n"
          ],
          "name": "stdout"
        }
      ]
    },
    {
      "cell_type": "code",
      "metadata": {
        "id": "wA2vq0WfOCa4",
        "colab_type": "code",
        "outputId": "f7344e63-b6e1-415b-a7c1-e25c043a458a",
        "colab": {
          "base_uri": "https://localhost:8080/",
          "height": 72
        }
      },
      "source": [
        "# Use word_tokenize to tokenize the third sentence: tokenized_sent\n",
        "tokenized_sent = word_tokenize(sentences[1])\n",
        "\n",
        "# Make a set of unique tokens in the entire scene: unique_tokens\n",
        "unique_tokens = set(word_tokenize(text))\n",
        "\n",
        "print(tokenized_sent)\n",
        "print(unique_tokens)"
      ],
      "execution_count": 0,
      "outputs": [
        {
          "output_type": "stream",
          "text": [
            "['That', 'was', 'fine', 'by', 'me', '.']\n",
            "{'lived', 'in', 'accidentally', 'life', 'pessimism', 'surprise', 'always', 'was', 'The', 'into', 'only', 'it', '’', 'the', 'much', 'That', 'believed', 'state', 've', 'pleasant', 'generally', 'real', ',', 'things', '.', 'by', 'me', 'never', 'expected', 'than', 'could', 'constant', 'optimist', 'but', 'turn', 'a', 'turned', 'my', 'that', 'you', 'with', 'I', 'too', 'better', 'an', 'problem', 'pessimists', 'been', 'called', 'figured', 'fine', 'many', 'out', 'if', 'imagined', 'worst', ':', 'of'}\n"
          ],
          "name": "stdout"
        }
      ]
    },
    {
      "cell_type": "code",
      "metadata": {
        "id": "0pfkMybwO7ks",
        "colab_type": "code",
        "colab": {}
      },
      "source": [
        "from nltk.corpus import stopwords\n",
        "stop_words = set(stopwords.words('english')) "
      ],
      "execution_count": 0,
      "outputs": []
    },
    {
      "cell_type": "code",
      "metadata": {
        "id": "87EqJbx9O7pr",
        "colab_type": "code",
        "outputId": "878a3cae-c9eb-44b8-c2b3-25e338824c0d",
        "colab": {
          "base_uri": "https://localhost:8080/",
          "height": 657
        }
      },
      "source": [
        "[word.lower() for word in word_tokenize(text) if word not in stop_words and word.isalnum()]"
      ],
      "execution_count": 0,
      "outputs": [
        {
          "output_type": "execute_result",
          "data": {
            "text/plain": [
              "['i',\n",
              " 'called',\n",
              " 'many',\n",
              " 'things',\n",
              " 'life',\n",
              " 'never',\n",
              " 'optimist',\n",
              " 'that',\n",
              " 'fine',\n",
              " 'i',\n",
              " 'believed',\n",
              " 'pessimists',\n",
              " 'lived',\n",
              " 'constant',\n",
              " 'state',\n",
              " 'pleasant',\n",
              " 'surprise',\n",
              " 'always',\n",
              " 'expected',\n",
              " 'worst',\n",
              " 'things',\n",
              " 'generally',\n",
              " 'turned',\n",
              " 'better',\n",
              " 'imagined',\n",
              " 'the',\n",
              " 'real',\n",
              " 'problem',\n",
              " 'pessimism',\n",
              " 'i',\n",
              " 'figured',\n",
              " 'much',\n",
              " 'could',\n",
              " 'accidentally',\n",
              " 'turn',\n",
              " 'optimist']"
            ]
          },
          "metadata": {
            "tags": []
          },
          "execution_count": 6
        }
      ]
    },
    {
      "cell_type": "markdown",
      "metadata": {
        "id": "gRc_hfeiS-4V",
        "colab_type": "text"
      },
      "source": [
        "## OKboomer tweets"
      ]
    },
    {
      "cell_type": "code",
      "metadata": {
        "id": "PI5LYEWeUGxP",
        "colab_type": "code",
        "colab": {}
      },
      "source": [
        "import pandas as pd\n",
        "pd.set_option('display.max_colwidth', -1) #to see more text\n",
        "\n",
        "import numpy as np\n",
        "import seaborn as sns\n",
        "\n",
        "import itertools\n",
        "from collections import Counter"
      ],
      "execution_count": 0,
      "outputs": []
    },
    {
      "cell_type": "code",
      "metadata": {
        "id": "D-REvSntUL3I",
        "colab_type": "code",
        "colab": {}
      },
      "source": [
        "# Tokenizing Tweets made easy! (splitter tweets'ene op så de kan håndteres)\n",
        "from nltk.tokenize import TweetTokenizer\n",
        "tknzr = TweetTokenizer()"
      ],
      "execution_count": 0,
      "outputs": []
    },
    {
      "cell_type": "code",
      "metadata": {
        "id": "vazbH7LxO7vk",
        "colab_type": "code",
        "outputId": "1f651e49-a200-4315-e3f0-36d1347f5bb5",
        "colab": {
          "base_uri": "https://localhost:8080/",
          "height": 416
        }
      },
      "source": [
        "# download and open some  tweets from okboomer\n",
        "\n",
        "okboomer_tweets_df = pd.read_json('https://github.com/CALDISS-AAU/sdsphd19_coursematerials/raw/master/data/tweets_boomer.zip')\n",
        "okboomer_tweets_df.head()"
      ],
      "execution_count": 0,
      "outputs": [
        {
          "output_type": "execute_result",
          "data": {
            "text/html": [
              "<div>\n",
              "<style scoped>\n",
              "    .dataframe tbody tr th:only-of-type {\n",
              "        vertical-align: middle;\n",
              "    }\n",
              "\n",
              "    .dataframe tbody tr th {\n",
              "        vertical-align: top;\n",
              "    }\n",
              "\n",
              "    .dataframe thead th {\n",
              "        text-align: right;\n",
              "    }\n",
              "</style>\n",
              "<table border=\"1\" class=\"dataframe\">\n",
              "  <thead>\n",
              "    <tr style=\"text-align: right;\">\n",
              "      <th></th>\n",
              "      <th>id</th>\n",
              "      <th>conversation_id</th>\n",
              "      <th>created_at</th>\n",
              "      <th>date</th>\n",
              "      <th>timezone</th>\n",
              "      <th>place</th>\n",
              "      <th>tweet</th>\n",
              "      <th>hashtags</th>\n",
              "      <th>cashtags</th>\n",
              "      <th>user_id</th>\n",
              "      <th>user_id_str</th>\n",
              "      <th>username</th>\n",
              "      <th>name</th>\n",
              "      <th>day</th>\n",
              "      <th>hour</th>\n",
              "      <th>link</th>\n",
              "      <th>retweet</th>\n",
              "      <th>nlikes</th>\n",
              "      <th>nreplies</th>\n",
              "      <th>nretweets</th>\n",
              "      <th>quote_url</th>\n",
              "      <th>search</th>\n",
              "      <th>near</th>\n",
              "      <th>geo</th>\n",
              "      <th>source</th>\n",
              "      <th>user_rt_id</th>\n",
              "      <th>user_rt</th>\n",
              "      <th>retweet_id</th>\n",
              "      <th>reply_to</th>\n",
              "      <th>retweet_date</th>\n",
              "      <th>lang</th>\n",
              "    </tr>\n",
              "  </thead>\n",
              "  <tbody>\n",
              "    <tr>\n",
              "      <th>0</th>\n",
              "      <td>1197612747715837952</td>\n",
              "      <td>1197612747715837952</td>\n",
              "      <td>2019-11-21 20:28:24</td>\n",
              "      <td>2019-11-21 20:28:24</td>\n",
              "      <td>UTC</td>\n",
              "      <td></td>\n",
              "      <td>Suddenly, #OkBoomer is trending again.  https://twitter.com/Fox35Matt/status/1197185353330909184 …</td>\n",
              "      <td>[#okboomer]</td>\n",
              "      <td>[]</td>\n",
              "      <td>262050686</td>\n",
              "      <td>262050686</td>\n",
              "      <td>DanClarkSports</td>\n",
              "      <td>Dan</td>\n",
              "      <td>3</td>\n",
              "      <td>1</td>\n",
              "      <td>https://twitter.com/DanClarkSports/status/1197612747715837953</td>\n",
              "      <td>False</td>\n",
              "      <td>0</td>\n",
              "      <td>0</td>\n",
              "      <td>0</td>\n",
              "      <td>https://twitter.com/Fox35Matt/status/1197185353330909184</td>\n",
              "      <td>#okboomer</td>\n",
              "      <td></td>\n",
              "      <td></td>\n",
              "      <td></td>\n",
              "      <td></td>\n",
              "      <td></td>\n",
              "      <td></td>\n",
              "      <td>[{'user_id': '262050686', 'username': 'DanClarkSports'}]</td>\n",
              "      <td></td>\n",
              "      <td>en</td>\n",
              "    </tr>\n",
              "    <tr>\n",
              "      <th>1</th>\n",
              "      <td>1197612550403297280</td>\n",
              "      <td>1197612550403297280</td>\n",
              "      <td>2019-11-21 20:27:37</td>\n",
              "      <td>2019-11-21 20:27:37</td>\n",
              "      <td>UTC</td>\n",
              "      <td></td>\n",
              "      <td>I like my role in this 🤷‍♂️ #OkBoomer #GenX pic.twitter.com/6RI4bAsaml</td>\n",
              "      <td>[#okboomer, #genx]</td>\n",
              "      <td>[]</td>\n",
              "      <td>41444665</td>\n",
              "      <td>41444665</td>\n",
              "      <td>sinths</td>\n",
              "      <td>Sven Thomas</td>\n",
              "      <td>2</td>\n",
              "      <td>12</td>\n",
              "      <td>https://twitter.com/sinths/status/1197612550403297280</td>\n",
              "      <td>False</td>\n",
              "      <td>0</td>\n",
              "      <td>0</td>\n",
              "      <td>0</td>\n",
              "      <td></td>\n",
              "      <td>#okboomer</td>\n",
              "      <td></td>\n",
              "      <td></td>\n",
              "      <td></td>\n",
              "      <td></td>\n",
              "      <td></td>\n",
              "      <td></td>\n",
              "      <td>[{'user_id': '41444665', 'username': 'sinths'}]</td>\n",
              "      <td></td>\n",
              "      <td>en</td>\n",
              "    </tr>\n",
              "    <tr>\n",
              "      <th>2</th>\n",
              "      <td>1197612190867476480</td>\n",
              "      <td>1197611882955325440</td>\n",
              "      <td>2019-11-21 20:26:11</td>\n",
              "      <td>2019-11-21 20:26:11</td>\n",
              "      <td>UTC</td>\n",
              "      <td></td>\n",
              "      <td>He looks allot like you. Old and white.\\n\\n#OkBoomer</td>\n",
              "      <td>[#okboomer]</td>\n",
              "      <td>[]</td>\n",
              "      <td>1005516908181925888</td>\n",
              "      <td>1005516908181925888</td>\n",
              "      <td>DustFar</td>\n",
              "      <td>FarThrustStarDust</td>\n",
              "      <td>1</td>\n",
              "      <td>12</td>\n",
              "      <td>https://twitter.com/DustFar/status/1197612190867476481</td>\n",
              "      <td>False</td>\n",
              "      <td>0</td>\n",
              "      <td>1</td>\n",
              "      <td>0</td>\n",
              "      <td></td>\n",
              "      <td>#okboomer</td>\n",
              "      <td></td>\n",
              "      <td></td>\n",
              "      <td></td>\n",
              "      <td></td>\n",
              "      <td></td>\n",
              "      <td></td>\n",
              "      <td>[{'user_id': '1005516908181925888', 'username': 'DustFar'}, {'user_id': '113713991', 'username': 'timstao'}]</td>\n",
              "      <td></td>\n",
              "      <td>en</td>\n",
              "    </tr>\n",
              "    <tr>\n",
              "      <th>3</th>\n",
              "      <td>1197611782669402112</td>\n",
              "      <td>1197611782669402112</td>\n",
              "      <td>2019-11-21 20:24:34</td>\n",
              "      <td>2019-11-21 20:24:34</td>\n",
              "      <td>UTC</td>\n",
              "      <td></td>\n",
              "      <td>wait is my university’s president gaslighting me? #OkBoomer  pic.twitter.com/M2FNkQvKHo</td>\n",
              "      <td>[#okboomer]</td>\n",
              "      <td>[]</td>\n",
              "      <td>2509106274</td>\n",
              "      <td>2509106274</td>\n",
              "      <td>summerash99</td>\n",
              "      <td>queer, sultry summer</td>\n",
              "      <td>7</td>\n",
              "      <td>9</td>\n",
              "      <td>https://twitter.com/summerash99/status/1197611782669402113</td>\n",
              "      <td>False</td>\n",
              "      <td>1</td>\n",
              "      <td>0</td>\n",
              "      <td>0</td>\n",
              "      <td></td>\n",
              "      <td>#okboomer</td>\n",
              "      <td></td>\n",
              "      <td></td>\n",
              "      <td></td>\n",
              "      <td></td>\n",
              "      <td></td>\n",
              "      <td></td>\n",
              "      <td>[{'user_id': '2509106274', 'username': 'summerash99'}]</td>\n",
              "      <td></td>\n",
              "      <td>en</td>\n",
              "    </tr>\n",
              "    <tr>\n",
              "      <th>4</th>\n",
              "      <td>1197611614687637504</td>\n",
              "      <td>1197611614687637504</td>\n",
              "      <td>2019-11-21 20:23:54</td>\n",
              "      <td>2019-11-21 20:23:54</td>\n",
              "      <td>UTC</td>\n",
              "      <td></td>\n",
              "      <td>Shut up Conway you whiny, fragile fossil. #okboomer #expirealready</td>\n",
              "      <td>[#okboomer, #expirealready]</td>\n",
              "      <td>[]</td>\n",
              "      <td>2789202068</td>\n",
              "      <td>2789202068</td>\n",
              "      <td>Crayondroids</td>\n",
              "      <td>Crayondroids</td>\n",
              "      <td>6</td>\n",
              "      <td>22</td>\n",
              "      <td>https://twitter.com/Crayondroids/status/1197611614687637504</td>\n",
              "      <td>False</td>\n",
              "      <td>0</td>\n",
              "      <td>0</td>\n",
              "      <td>0</td>\n",
              "      <td></td>\n",
              "      <td>#okboomer</td>\n",
              "      <td></td>\n",
              "      <td></td>\n",
              "      <td></td>\n",
              "      <td></td>\n",
              "      <td></td>\n",
              "      <td></td>\n",
              "      <td>[{'user_id': '2789202068', 'username': 'Crayondroids'}]</td>\n",
              "      <td></td>\n",
              "      <td>en</td>\n",
              "    </tr>\n",
              "  </tbody>\n",
              "</table>\n",
              "</div>"
            ],
            "text/plain": [
              "                    id      conversation_id  ... retweet_date lang\n",
              "0  1197612747715837952  1197612747715837952  ...               en \n",
              "1  1197612550403297280  1197612550403297280  ...               en \n",
              "2  1197612190867476480  1197611882955325440  ...               en \n",
              "3  1197611782669402112  1197611782669402112  ...               en \n",
              "4  1197611614687637504  1197611614687637504  ...               en \n",
              "\n",
              "[5 rows x 31 columns]"
            ]
          },
          "metadata": {
            "tags": []
          },
          "execution_count": 9
        }
      ]
    },
    {
      "cell_type": "code",
      "metadata": {
        "id": "0KVY5uxkO70z",
        "colab_type": "code",
        "colab": {}
      },
      "source": [
        "# Reset index (not really needed but why not) datoindeks i stedet - Hermed danner vi en tidsserie\n",
        "okboomer_tweets_df = trump_tweets_df.set_index(pd.to_datetime(trump_tweets_df.created_at))"
      ],
      "execution_count": 0,
      "outputs": []
    },
    {
      "cell_type": "code",
      "metadata": {
        "id": "hTDCw22aO7uo",
        "colab_type": "code",
        "colab": {}
      },
      "source": [
        "# Let's identify what Trump likes to hashtag\n",
        "okboomer_tweets_df['tags'] = trump_tweets_df['tweet'].map(lambda textline: [tag for tag in tknzr.tokenize(textline) if tag.startswith('#')])"
      ],
      "execution_count": 0,
      "outputs": []
    },
    {
      "cell_type": "code",
      "metadata": {
        "id": "AmWy0nezO7oy",
        "colab_type": "code",
        "outputId": "f68e3b4e-e956-41ee-c3da-2c7bf88089ec",
        "colab": {
          "base_uri": "https://localhost:8080/",
          "height": 248
        }
      },
      "source": [
        "okboomer_tweets_df['tags']"
      ],
      "execution_count": 0,
      "outputs": [
        {
          "output_type": "execute_result",
          "data": {
            "text/plain": [
              "created_at\n",
              "2019-11-21 20:28:24    [#OkBoomer]                \n",
              "2019-11-21 20:27:37    [#OkBoomer, #GenX]         \n",
              "2019-11-21 20:26:11    [#OkBoomer]                \n",
              "2019-11-21 20:24:34    [#OkBoomer]                \n",
              "2019-11-21 20:23:54    [#okboomer, #expirealready]\n",
              "                                  ...             \n",
              "2019-11-11 13:12:53    [#OkBoomer]                \n",
              "2019-11-11 13:11:46    [#OkBoomer]                \n",
              "2019-11-11 13:09:38    [#OkBoomer]                \n",
              "2019-11-11 13:09:11    [#OkBoomer, #OkCapitalist] \n",
              "2019-11-11 13:06:11    [#OKBoomer]                \n",
              "Name: tags, Length: 9722, dtype: object"
            ]
          },
          "metadata": {
            "tags": []
          },
          "execution_count": 12
        }
      ]
    },
    {
      "cell_type": "code",
      "metadata": {
        "id": "WwXq2uVFUckp",
        "colab_type": "code",
        "colab": {}
      },
      "source": [
        "# Only keep tweets where a hashtag is present\n",
        "okboomer_tweets_df = okboomer_tweets_df[trump_tweets_df['tags'].map(len) > 0]"
      ],
      "execution_count": 0,
      "outputs": []
    },
    {
      "cell_type": "code",
      "metadata": {
        "id": "17MkNtaVUcrn",
        "colab_type": "code",
        "colab": {}
      },
      "source": [
        "# Collect\n",
        "okboomer_tags = itertools.chain(*okboomer_tweets_df['tags']) # * åbner listen med tags i okboomer_tweets_df, angiveligt en elegant måde at gøre det på"
      ],
      "execution_count": 0,
      "outputs": []
    },
    {
      "cell_type": "code",
      "metadata": {
        "id": "GJHCUfusUcul",
        "colab_type": "code",
        "outputId": "50bef89b-67c3-440a-c6d9-c3d194bfbc31",
        "colab": {
          "base_uri": "https://localhost:8080/",
          "height": 195
        }
      },
      "source": [
        "# Count up and show\n",
        "counted_tags = Counter(okboomer_tags)\n",
        "counted_tags.most_common()[:10] # de 10 mest taggede i okboomer tweets"
      ],
      "execution_count": 0,
      "outputs": [
        {
          "output_type": "execute_result",
          "data": {
            "text/plain": [
              "[('#OkBoomer', 6254),\n",
              " ('#okboomer', 2362),\n",
              " ('#OKBoomer', 799),\n",
              " ('#Millennials', 181),\n",
              " ('#Boomer', 164),\n",
              " ('#okboomers', 148),\n",
              " ('#GenX', 143),\n",
              " ('#OKboomer', 132),\n",
              " ('#oktrumper', 126),\n",
              " ('#boomer', 116)]"
            ]
          },
          "metadata": {
            "tags": []
          },
          "execution_count": 15
        }
      ]
    },
    {
      "cell_type": "markdown",
      "metadata": {
        "id": "rlj9BC1MKyjp",
        "colab_type": "text"
      },
      "source": [
        "## ØVelse"
      ]
    },
    {
      "cell_type": "markdown",
      "metadata": {
        "id": "pbR2Ar_yKuUi",
        "colab_type": "text"
      },
      "source": [
        "* Perform an LDA analysis of the #OKBoomer dataset\n",
        "\n",
        "* Filter the corpus using tweet-preprocessor - try to figure out how to use it using it's documentation\n",
        "\n",
        "* Clean up further with SpaCy (keep only ADV, ADJ, NOUN)\n",
        "\n",
        "* Use Gensim to build a Dictionary (Filter extremes) and Corpus\n",
        "\n",
        "* Use Gensim to run LDA\n",
        "* Identify 10 topics\n",
        "* Plot topic-counts by day"
      ]
    },
    {
      "cell_type": "code",
      "metadata": {
        "id": "x8FysKQEL2b9",
        "colab_type": "code",
        "colab": {}
      },
      "source": [
        "import pandas as pd\n",
        "pd.set_option('display.max_colwidth', -1) #to see more text\n",
        "\n",
        "import numpy as np\n",
        "import seaborn as sns\n",
        "\n",
        "import itertools\n",
        "from collections import Counter"
      ],
      "execution_count": 0,
      "outputs": []
    },
    {
      "cell_type": "code",
      "metadata": {
        "id": "9UFinH7VL2Wo",
        "colab_type": "code",
        "outputId": "e2a0f23a-da39-4bdf-e63a-a1b8c25c69bb",
        "colab": {
          "base_uri": "https://localhost:8080/",
          "height": 416
        }
      },
      "source": [
        "# download and open some Trump tweets from trump_tweet_data_archive\n",
        "\n",
        "okb_tweets_df = pd.read_json('https://github.com/CALDISS-AAU/sdsphd19_coursematerials/raw/master/data/tweets_boomer.zip')\n",
        "okb_tweets_df.head()"
      ],
      "execution_count": 0,
      "outputs": [
        {
          "output_type": "execute_result",
          "data": {
            "text/html": [
              "<div>\n",
              "<style scoped>\n",
              "    .dataframe tbody tr th:only-of-type {\n",
              "        vertical-align: middle;\n",
              "    }\n",
              "\n",
              "    .dataframe tbody tr th {\n",
              "        vertical-align: top;\n",
              "    }\n",
              "\n",
              "    .dataframe thead th {\n",
              "        text-align: right;\n",
              "    }\n",
              "</style>\n",
              "<table border=\"1\" class=\"dataframe\">\n",
              "  <thead>\n",
              "    <tr style=\"text-align: right;\">\n",
              "      <th></th>\n",
              "      <th>id</th>\n",
              "      <th>conversation_id</th>\n",
              "      <th>created_at</th>\n",
              "      <th>date</th>\n",
              "      <th>timezone</th>\n",
              "      <th>place</th>\n",
              "      <th>tweet</th>\n",
              "      <th>hashtags</th>\n",
              "      <th>cashtags</th>\n",
              "      <th>user_id</th>\n",
              "      <th>user_id_str</th>\n",
              "      <th>username</th>\n",
              "      <th>name</th>\n",
              "      <th>day</th>\n",
              "      <th>hour</th>\n",
              "      <th>link</th>\n",
              "      <th>retweet</th>\n",
              "      <th>nlikes</th>\n",
              "      <th>nreplies</th>\n",
              "      <th>nretweets</th>\n",
              "      <th>quote_url</th>\n",
              "      <th>search</th>\n",
              "      <th>near</th>\n",
              "      <th>geo</th>\n",
              "      <th>source</th>\n",
              "      <th>user_rt_id</th>\n",
              "      <th>user_rt</th>\n",
              "      <th>retweet_id</th>\n",
              "      <th>reply_to</th>\n",
              "      <th>retweet_date</th>\n",
              "      <th>lang</th>\n",
              "    </tr>\n",
              "  </thead>\n",
              "  <tbody>\n",
              "    <tr>\n",
              "      <th>0</th>\n",
              "      <td>1197612747715837952</td>\n",
              "      <td>1197612747715837952</td>\n",
              "      <td>2019-11-21 20:28:24</td>\n",
              "      <td>2019-11-21 20:28:24</td>\n",
              "      <td>UTC</td>\n",
              "      <td></td>\n",
              "      <td>Suddenly, #OkBoomer is trending again.  https://twitter.com/Fox35Matt/status/1197185353330909184 …</td>\n",
              "      <td>[#okboomer]</td>\n",
              "      <td>[]</td>\n",
              "      <td>262050686</td>\n",
              "      <td>262050686</td>\n",
              "      <td>DanClarkSports</td>\n",
              "      <td>Dan</td>\n",
              "      <td>3</td>\n",
              "      <td>1</td>\n",
              "      <td>https://twitter.com/DanClarkSports/status/1197612747715837953</td>\n",
              "      <td>False</td>\n",
              "      <td>0</td>\n",
              "      <td>0</td>\n",
              "      <td>0</td>\n",
              "      <td>https://twitter.com/Fox35Matt/status/1197185353330909184</td>\n",
              "      <td>#okboomer</td>\n",
              "      <td></td>\n",
              "      <td></td>\n",
              "      <td></td>\n",
              "      <td></td>\n",
              "      <td></td>\n",
              "      <td></td>\n",
              "      <td>[{'user_id': '262050686', 'username': 'DanClarkSports'}]</td>\n",
              "      <td></td>\n",
              "      <td>en</td>\n",
              "    </tr>\n",
              "    <tr>\n",
              "      <th>1</th>\n",
              "      <td>1197612550403297280</td>\n",
              "      <td>1197612550403297280</td>\n",
              "      <td>2019-11-21 20:27:37</td>\n",
              "      <td>2019-11-21 20:27:37</td>\n",
              "      <td>UTC</td>\n",
              "      <td></td>\n",
              "      <td>I like my role in this 🤷‍♂️ #OkBoomer #GenX pic.twitter.com/6RI4bAsaml</td>\n",
              "      <td>[#okboomer, #genx]</td>\n",
              "      <td>[]</td>\n",
              "      <td>41444665</td>\n",
              "      <td>41444665</td>\n",
              "      <td>sinths</td>\n",
              "      <td>Sven Thomas</td>\n",
              "      <td>2</td>\n",
              "      <td>12</td>\n",
              "      <td>https://twitter.com/sinths/status/1197612550403297280</td>\n",
              "      <td>False</td>\n",
              "      <td>0</td>\n",
              "      <td>0</td>\n",
              "      <td>0</td>\n",
              "      <td></td>\n",
              "      <td>#okboomer</td>\n",
              "      <td></td>\n",
              "      <td></td>\n",
              "      <td></td>\n",
              "      <td></td>\n",
              "      <td></td>\n",
              "      <td></td>\n",
              "      <td>[{'user_id': '41444665', 'username': 'sinths'}]</td>\n",
              "      <td></td>\n",
              "      <td>en</td>\n",
              "    </tr>\n",
              "    <tr>\n",
              "      <th>2</th>\n",
              "      <td>1197612190867476480</td>\n",
              "      <td>1197611882955325440</td>\n",
              "      <td>2019-11-21 20:26:11</td>\n",
              "      <td>2019-11-21 20:26:11</td>\n",
              "      <td>UTC</td>\n",
              "      <td></td>\n",
              "      <td>He looks allot like you. Old and white.\\n\\n#OkBoomer</td>\n",
              "      <td>[#okboomer]</td>\n",
              "      <td>[]</td>\n",
              "      <td>1005516908181925888</td>\n",
              "      <td>1005516908181925888</td>\n",
              "      <td>DustFar</td>\n",
              "      <td>FarThrustStarDust</td>\n",
              "      <td>1</td>\n",
              "      <td>12</td>\n",
              "      <td>https://twitter.com/DustFar/status/1197612190867476481</td>\n",
              "      <td>False</td>\n",
              "      <td>0</td>\n",
              "      <td>1</td>\n",
              "      <td>0</td>\n",
              "      <td></td>\n",
              "      <td>#okboomer</td>\n",
              "      <td></td>\n",
              "      <td></td>\n",
              "      <td></td>\n",
              "      <td></td>\n",
              "      <td></td>\n",
              "      <td></td>\n",
              "      <td>[{'user_id': '1005516908181925888', 'username': 'DustFar'}, {'user_id': '113713991', 'username': 'timstao'}]</td>\n",
              "      <td></td>\n",
              "      <td>en</td>\n",
              "    </tr>\n",
              "    <tr>\n",
              "      <th>3</th>\n",
              "      <td>1197611782669402112</td>\n",
              "      <td>1197611782669402112</td>\n",
              "      <td>2019-11-21 20:24:34</td>\n",
              "      <td>2019-11-21 20:24:34</td>\n",
              "      <td>UTC</td>\n",
              "      <td></td>\n",
              "      <td>wait is my university’s president gaslighting me? #OkBoomer  pic.twitter.com/M2FNkQvKHo</td>\n",
              "      <td>[#okboomer]</td>\n",
              "      <td>[]</td>\n",
              "      <td>2509106274</td>\n",
              "      <td>2509106274</td>\n",
              "      <td>summerash99</td>\n",
              "      <td>queer, sultry summer</td>\n",
              "      <td>7</td>\n",
              "      <td>9</td>\n",
              "      <td>https://twitter.com/summerash99/status/1197611782669402113</td>\n",
              "      <td>False</td>\n",
              "      <td>1</td>\n",
              "      <td>0</td>\n",
              "      <td>0</td>\n",
              "      <td></td>\n",
              "      <td>#okboomer</td>\n",
              "      <td></td>\n",
              "      <td></td>\n",
              "      <td></td>\n",
              "      <td></td>\n",
              "      <td></td>\n",
              "      <td></td>\n",
              "      <td>[{'user_id': '2509106274', 'username': 'summerash99'}]</td>\n",
              "      <td></td>\n",
              "      <td>en</td>\n",
              "    </tr>\n",
              "    <tr>\n",
              "      <th>4</th>\n",
              "      <td>1197611614687637504</td>\n",
              "      <td>1197611614687637504</td>\n",
              "      <td>2019-11-21 20:23:54</td>\n",
              "      <td>2019-11-21 20:23:54</td>\n",
              "      <td>UTC</td>\n",
              "      <td></td>\n",
              "      <td>Shut up Conway you whiny, fragile fossil. #okboomer #expirealready</td>\n",
              "      <td>[#okboomer, #expirealready]</td>\n",
              "      <td>[]</td>\n",
              "      <td>2789202068</td>\n",
              "      <td>2789202068</td>\n",
              "      <td>Crayondroids</td>\n",
              "      <td>Crayondroids</td>\n",
              "      <td>6</td>\n",
              "      <td>22</td>\n",
              "      <td>https://twitter.com/Crayondroids/status/1197611614687637504</td>\n",
              "      <td>False</td>\n",
              "      <td>0</td>\n",
              "      <td>0</td>\n",
              "      <td>0</td>\n",
              "      <td></td>\n",
              "      <td>#okboomer</td>\n",
              "      <td></td>\n",
              "      <td></td>\n",
              "      <td></td>\n",
              "      <td></td>\n",
              "      <td></td>\n",
              "      <td></td>\n",
              "      <td>[{'user_id': '2789202068', 'username': 'Crayondroids'}]</td>\n",
              "      <td></td>\n",
              "      <td>en</td>\n",
              "    </tr>\n",
              "  </tbody>\n",
              "</table>\n",
              "</div>"
            ],
            "text/plain": [
              "                    id      conversation_id  ... retweet_date lang\n",
              "0  1197612747715837952  1197612747715837952  ...               en \n",
              "1  1197612550403297280  1197612550403297280  ...               en \n",
              "2  1197612190867476480  1197611882955325440  ...               en \n",
              "3  1197611782669402112  1197611782669402112  ...               en \n",
              "4  1197611614687637504  1197611614687637504  ...               en \n",
              "\n",
              "[5 rows x 31 columns]"
            ]
          },
          "metadata": {
            "tags": []
          },
          "execution_count": 48
        }
      ]
    },
    {
      "cell_type": "code",
      "metadata": {
        "id": "qwJtV-S6L2mf",
        "colab_type": "code",
        "colab": {}
      },
      "source": [
        "# to speed things up, we will keep the data at 500 projects\n",
        "# create a random sample\n",
        "\n",
        "boomer_tweets = okb_tweets_df.sample(500)\n"
      ],
      "execution_count": 0,
      "outputs": []
    },
    {
      "cell_type": "code",
      "metadata": {
        "id": "WrZp1fqBL2sK",
        "colab_type": "code",
        "outputId": "3876d09c-ec84-4a2d-e04b-50c3326fd63d",
        "colab": {
          "base_uri": "https://localhost:8080/",
          "height": 177
        }
      },
      "source": [
        "!pip install tweet-preprocessor\n",
        "import preprocessor as p"
      ],
      "execution_count": 0,
      "outputs": [
        {
          "output_type": "stream",
          "text": [
            "Collecting tweet-preprocessor\n",
            "  Downloading https://files.pythonhosted.org/packages/2a/f8/810ec35c31cca89bc4f1a02c14b042b9ec6c19dd21f7ef1876874ef069a6/tweet-preprocessor-0.5.0.tar.gz\n",
            "Building wheels for collected packages: tweet-preprocessor\n",
            "  Building wheel for tweet-preprocessor (setup.py) ... \u001b[?25l\u001b[?25hdone\n",
            "  Created wheel for tweet-preprocessor: filename=tweet_preprocessor-0.5.0-cp36-none-any.whl size=7947 sha256=d5911df872f56cd9a5d25780d49a9bcd3a919766453476af93dd16ab8d5b6871\n",
            "  Stored in directory: /root/.cache/pip/wheels/1b/27/cc/49938e98a2470802ebdefae9d2b3f524768e970c1ebbe2dc4a\n",
            "Successfully built tweet-preprocessor\n",
            "Installing collected packages: tweet-preprocessor\n",
            "Successfully installed tweet-preprocessor-0.5.0\n"
          ],
          "name": "stdout"
        }
      ]
    },
    {
      "cell_type": "code",
      "metadata": {
        "id": "5JSL_FkGOWUV",
        "colab_type": "code",
        "outputId": "909e78ab-611b-49aa-810e-70ee3c08e6d0",
        "colab": {
          "base_uri": "https://localhost:8080/",
          "height": 1000
        }
      },
      "source": [
        "boomer_tweets.set_index(pd.to_datetime(boomer_tweets.created_at))"
      ],
      "execution_count": 0,
      "outputs": [
        {
          "output_type": "execute_result",
          "data": {
            "text/html": [
              "<div>\n",
              "<style scoped>\n",
              "    .dataframe tbody tr th:only-of-type {\n",
              "        vertical-align: middle;\n",
              "    }\n",
              "\n",
              "    .dataframe tbody tr th {\n",
              "        vertical-align: top;\n",
              "    }\n",
              "\n",
              "    .dataframe thead th {\n",
              "        text-align: right;\n",
              "    }\n",
              "</style>\n",
              "<table border=\"1\" class=\"dataframe\">\n",
              "  <thead>\n",
              "    <tr style=\"text-align: right;\">\n",
              "      <th></th>\n",
              "      <th>id</th>\n",
              "      <th>conversation_id</th>\n",
              "      <th>created_at</th>\n",
              "      <th>date</th>\n",
              "      <th>timezone</th>\n",
              "      <th>place</th>\n",
              "      <th>tweet</th>\n",
              "      <th>hashtags</th>\n",
              "      <th>cashtags</th>\n",
              "      <th>user_id</th>\n",
              "      <th>user_id_str</th>\n",
              "      <th>username</th>\n",
              "      <th>name</th>\n",
              "      <th>day</th>\n",
              "      <th>hour</th>\n",
              "      <th>link</th>\n",
              "      <th>retweet</th>\n",
              "      <th>nlikes</th>\n",
              "      <th>nreplies</th>\n",
              "      <th>nretweets</th>\n",
              "      <th>quote_url</th>\n",
              "      <th>search</th>\n",
              "      <th>near</th>\n",
              "      <th>geo</th>\n",
              "      <th>source</th>\n",
              "      <th>user_rt_id</th>\n",
              "      <th>user_rt</th>\n",
              "      <th>retweet_id</th>\n",
              "      <th>reply_to</th>\n",
              "      <th>retweet_date</th>\n",
              "      <th>lang</th>\n",
              "    </tr>\n",
              "    <tr>\n",
              "      <th>created_at</th>\n",
              "      <th></th>\n",
              "      <th></th>\n",
              "      <th></th>\n",
              "      <th></th>\n",
              "      <th></th>\n",
              "      <th></th>\n",
              "      <th></th>\n",
              "      <th></th>\n",
              "      <th></th>\n",
              "      <th></th>\n",
              "      <th></th>\n",
              "      <th></th>\n",
              "      <th></th>\n",
              "      <th></th>\n",
              "      <th></th>\n",
              "      <th></th>\n",
              "      <th></th>\n",
              "      <th></th>\n",
              "      <th></th>\n",
              "      <th></th>\n",
              "      <th></th>\n",
              "      <th></th>\n",
              "      <th></th>\n",
              "      <th></th>\n",
              "      <th></th>\n",
              "      <th></th>\n",
              "      <th></th>\n",
              "      <th></th>\n",
              "      <th></th>\n",
              "      <th></th>\n",
              "      <th></th>\n",
              "    </tr>\n",
              "  </thead>\n",
              "  <tbody>\n",
              "    <tr>\n",
              "      <th>2019-11-11 18:35:01</th>\n",
              "      <td>1193960334140162048</td>\n",
              "      <td>1193960334140162048</td>\n",
              "      <td>2019-11-11 18:35:01</td>\n",
              "      <td>2019-11-11 18:35:01</td>\n",
              "      <td>UTC</td>\n",
              "      <td></td>\n",
              "      <td>Omg, is this the perfect #OkBoomer #TikTok or what 🤣🤣 https://twitter.com/BreanneThomas/status/1151294947896778752 …</td>\n",
              "      <td>[#okboomer, #tiktok]</td>\n",
              "      <td>[]</td>\n",
              "      <td>808783063459037184</td>\n",
              "      <td>808783063459037184</td>\n",
              "      <td>chelenki</td>\n",
              "      <td>Harold</td>\n",
              "      <td>4</td>\n",
              "      <td>7</td>\n",
              "      <td>https://twitter.com/chelenki/status/1193960334140162048</td>\n",
              "      <td>False</td>\n",
              "      <td>0</td>\n",
              "      <td>0</td>\n",
              "      <td>0</td>\n",
              "      <td>https://twitter.com/BreanneThomas/status/1151294947896778752</td>\n",
              "      <td>#okboomer</td>\n",
              "      <td></td>\n",
              "      <td></td>\n",
              "      <td></td>\n",
              "      <td></td>\n",
              "      <td></td>\n",
              "      <td></td>\n",
              "      <td>[{'user_id': '808783063459037184', 'username': 'chelenki'}]</td>\n",
              "      <td></td>\n",
              "      <td>en</td>\n",
              "    </tr>\n",
              "    <tr>\n",
              "      <th>2019-11-12 10:45:04</th>\n",
              "      <td>1194204459049652224</td>\n",
              "      <td>1194204459049652224</td>\n",
              "      <td>2019-11-12 10:45:04</td>\n",
              "      <td>2019-11-12 10:45:04</td>\n",
              "      <td>UTC</td>\n",
              "      <td></td>\n",
              "      <td>• HAZEMAZE (2018): 5/10\\n• Hymns of the Damned (2019): 5/10 \\n\\n• Combined: 10/10 ⭐️💥 \\n\\nThank you #SwedenRockMagazine! 🥃 #okboomer \\n\\n______\\nPreorder HOTD (LP/CD/Digital) via @Bandcamp:  http://ripplemusic.bandcamp.com/album/hymns-of-the-damned … pic.twitter.com/N6kwX5H2Cg</td>\n",
              "      <td>[#swedenrockmagazine, #okboomer]</td>\n",
              "      <td>[]</td>\n",
              "      <td>736445811337363458</td>\n",
              "      <td>736445811337363456</td>\n",
              "      <td>hazemazeband</td>\n",
              "      <td>Hazemaze</td>\n",
              "      <td>5</td>\n",
              "      <td>23</td>\n",
              "      <td>https://twitter.com/hazemazeband/status/1194204459049652225</td>\n",
              "      <td>False</td>\n",
              "      <td>9</td>\n",
              "      <td>1</td>\n",
              "      <td>0</td>\n",
              "      <td></td>\n",
              "      <td>#okboomer</td>\n",
              "      <td></td>\n",
              "      <td></td>\n",
              "      <td></td>\n",
              "      <td></td>\n",
              "      <td></td>\n",
              "      <td></td>\n",
              "      <td>[{'user_id': '736445811337363458', 'username': 'hazemazeband'}, {'user_id': '16705752', 'username': 'Bandcamp'}]</td>\n",
              "      <td></td>\n",
              "      <td>en</td>\n",
              "    </tr>\n",
              "    <tr>\n",
              "      <th>2019-11-18 23:40:11</th>\n",
              "      <td>1196573848289845248</td>\n",
              "      <td>1196573848289845248</td>\n",
              "      <td>2019-11-18 23:40:11</td>\n",
              "      <td>2019-11-18 23:40:11</td>\n",
              "      <td>UTC</td>\n",
              "      <td></td>\n",
              "      <td>1/2.\\n\\nThe result of an ahistorical society.\\n\\nWhat is striking abt #OKBoomer is the whiteness frame of it by “woke” white folk. More accurate would be #OKWHITEBoomer cause Boomers-of-Color were real-life sacrificing to bring folk to THIS point, standing on shoulders of OUR Elders. https://twitter.com/mnorian4306/status/1196568230518767616 …</td>\n",
              "      <td>[#okboomer, #okwhiteboomer]</td>\n",
              "      <td>[]</td>\n",
              "      <td>277072599</td>\n",
              "      <td>277072599</td>\n",
              "      <td>AdarAyiraViews</td>\n",
              "      <td>A. Adar Ayira</td>\n",
              "      <td>6</td>\n",
              "      <td>5</td>\n",
              "      <td>https://twitter.com/AdarAyiraViews/status/1196573848289845248</td>\n",
              "      <td>False</td>\n",
              "      <td>0</td>\n",
              "      <td>1</td>\n",
              "      <td>0</td>\n",
              "      <td>https://twitter.com/mnorian4306/status/1196568230518767616</td>\n",
              "      <td>#okboomer</td>\n",
              "      <td></td>\n",
              "      <td></td>\n",
              "      <td></td>\n",
              "      <td></td>\n",
              "      <td></td>\n",
              "      <td></td>\n",
              "      <td>[{'user_id': '277072599', 'username': 'AdarAyiraViews'}]</td>\n",
              "      <td></td>\n",
              "      <td>en</td>\n",
              "    </tr>\n",
              "    <tr>\n",
              "      <th>2019-11-14 04:06:48</th>\n",
              "      <td>1194829005314285568</td>\n",
              "      <td>1194829005314285568</td>\n",
              "      <td>2019-11-14 04:06:48</td>\n",
              "      <td>2019-11-14 04:06:48</td>\n",
              "      <td>UTC</td>\n",
              "      <td></td>\n",
              "      <td>Instead of shaming another generation, go register to vote! Love this idea from @Newsweek op-Ed by @lindseypollak re: #okboomer controversy\\n https://lnkd.in/eEEG-fa</td>\n",
              "      <td>[#okboomer]</td>\n",
              "      <td>[]</td>\n",
              "      <td>598764502</td>\n",
              "      <td>598764502</td>\n",
              "      <td>StylishSpoon</td>\n",
              "      <td>Ilana Eck</td>\n",
              "      <td>7</td>\n",
              "      <td>9</td>\n",
              "      <td>https://twitter.com/StylishSpoon/status/1194829005314285570</td>\n",
              "      <td>False</td>\n",
              "      <td>1</td>\n",
              "      <td>1</td>\n",
              "      <td>0</td>\n",
              "      <td></td>\n",
              "      <td>#okboomer</td>\n",
              "      <td></td>\n",
              "      <td></td>\n",
              "      <td></td>\n",
              "      <td></td>\n",
              "      <td></td>\n",
              "      <td></td>\n",
              "      <td>[{'user_id': '598764502', 'username': 'StylishSpoon'}, {'user_id': '2884771', 'username': 'Newsweek'}, {'user_id': '9810242', 'username': 'lindseypollak'}]</td>\n",
              "      <td></td>\n",
              "      <td>en</td>\n",
              "    </tr>\n",
              "    <tr>\n",
              "      <th>2019-11-13 00:31:26</th>\n",
              "      <td>1194412418790821888</td>\n",
              "      <td>1194412418790821888</td>\n",
              "      <td>2019-11-13 00:31:26</td>\n",
              "      <td>2019-11-13 00:31:26</td>\n",
              "      <td>UTC</td>\n",
              "      <td></td>\n",
              "      <td>Says the guy that thinks antifa are fascists, and that Hitler was a communist...\\n\\n#OkBoomer  https://twitter.com/outlawjw/status/1194410706621190144 …</td>\n",
              "      <td>[#okboomer]</td>\n",
              "      <td>[]</td>\n",
              "      <td>48176051</td>\n",
              "      <td>48176051</td>\n",
              "      <td>Nimbusyosh</td>\n",
              "      <td>🌊 Won EVERY debate 🌊</td>\n",
              "      <td>5</td>\n",
              "      <td>19</td>\n",
              "      <td>https://twitter.com/Nimbusyosh/status/1194412418790821890</td>\n",
              "      <td>False</td>\n",
              "      <td>7</td>\n",
              "      <td>12</td>\n",
              "      <td>0</td>\n",
              "      <td>https://twitter.com/outlawjw/status/1194410706621190144</td>\n",
              "      <td>#okboomer</td>\n",
              "      <td></td>\n",
              "      <td></td>\n",
              "      <td></td>\n",
              "      <td></td>\n",
              "      <td></td>\n",
              "      <td></td>\n",
              "      <td>[{'user_id': '48176051', 'username': 'Nimbusyosh'}]</td>\n",
              "      <td></td>\n",
              "      <td>en</td>\n",
              "    </tr>\n",
              "    <tr>\n",
              "      <th>...</th>\n",
              "      <td>...</td>\n",
              "      <td>...</td>\n",
              "      <td>...</td>\n",
              "      <td>...</td>\n",
              "      <td>...</td>\n",
              "      <td>...</td>\n",
              "      <td>...</td>\n",
              "      <td>...</td>\n",
              "      <td>...</td>\n",
              "      <td>...</td>\n",
              "      <td>...</td>\n",
              "      <td>...</td>\n",
              "      <td>...</td>\n",
              "      <td>...</td>\n",
              "      <td>...</td>\n",
              "      <td>...</td>\n",
              "      <td>...</td>\n",
              "      <td>...</td>\n",
              "      <td>...</td>\n",
              "      <td>...</td>\n",
              "      <td>...</td>\n",
              "      <td>...</td>\n",
              "      <td>...</td>\n",
              "      <td>...</td>\n",
              "      <td>...</td>\n",
              "      <td>...</td>\n",
              "      <td>...</td>\n",
              "      <td>...</td>\n",
              "      <td>...</td>\n",
              "      <td>...</td>\n",
              "      <td>...</td>\n",
              "    </tr>\n",
              "    <tr>\n",
              "      <th>2019-11-17 00:07:40</th>\n",
              "      <td>1195855991411077120</td>\n",
              "      <td>1195640488126078976</td>\n",
              "      <td>2019-11-17 00:07:40</td>\n",
              "      <td>2019-11-17 00:07:40</td>\n",
              "      <td>UTC</td>\n",
              "      <td></td>\n",
              "      <td>Should have been #OkBoomer</td>\n",
              "      <td>[#okboomer]</td>\n",
              "      <td>[]</td>\n",
              "      <td>865459192445804544</td>\n",
              "      <td>865459192445804544</td>\n",
              "      <td>ErmoPlumber</td>\n",
              "      <td>Ermington Plumbing</td>\n",
              "      <td>6</td>\n",
              "      <td>7</td>\n",
              "      <td>https://twitter.com/ErmoPlumber/status/1195855991411077120</td>\n",
              "      <td>False</td>\n",
              "      <td>0</td>\n",
              "      <td>0</td>\n",
              "      <td>0</td>\n",
              "      <td></td>\n",
              "      <td>#okboomer</td>\n",
              "      <td></td>\n",
              "      <td></td>\n",
              "      <td></td>\n",
              "      <td></td>\n",
              "      <td></td>\n",
              "      <td></td>\n",
              "      <td>[{'user_id': '865459192445804544', 'username': 'ErmoPlumber'}, {'user_id': '43525891', 'username': 'TheKouk'}]</td>\n",
              "      <td></td>\n",
              "      <td>en</td>\n",
              "    </tr>\n",
              "    <tr>\n",
              "      <th>2019-11-12 03:49:34</th>\n",
              "      <td>1194099894086176768</td>\n",
              "      <td>1193974861489680384</td>\n",
              "      <td>2019-11-12 03:49:34</td>\n",
              "      <td>2019-11-12 03:49:34</td>\n",
              "      <td>UTC</td>\n",
              "      <td></td>\n",
              "      <td>This has been great. I’ve eliminated about a dozen people who have responded with “#OkBoomer”. If that really is the best comeback they have, they’re not worth the time to read. #TryHarder</td>\n",
              "      <td>[#okboomer, #tryharder]</td>\n",
              "      <td>[]</td>\n",
              "      <td>410520868</td>\n",
              "      <td>410520868</td>\n",
              "      <td>Atack329</td>\n",
              "      <td>Atack 🏳️‍🌈</td>\n",
              "      <td>4</td>\n",
              "      <td>10</td>\n",
              "      <td>https://twitter.com/Atack329/status/1194099894086176770</td>\n",
              "      <td>False</td>\n",
              "      <td>0</td>\n",
              "      <td>0</td>\n",
              "      <td>0</td>\n",
              "      <td></td>\n",
              "      <td>#okboomer</td>\n",
              "      <td></td>\n",
              "      <td></td>\n",
              "      <td></td>\n",
              "      <td></td>\n",
              "      <td></td>\n",
              "      <td></td>\n",
              "      <td>[{'user_id': '410520868', 'username': 'Atack329'}, {'user_id': '759251', 'username': 'CNN'}]</td>\n",
              "      <td></td>\n",
              "      <td>en</td>\n",
              "    </tr>\n",
              "    <tr>\n",
              "      <th>2019-11-12 03:27:12</th>\n",
              "      <td>1194094263895822336</td>\n",
              "      <td>1194094263895822336</td>\n",
              "      <td>2019-11-12 03:27:12</td>\n",
              "      <td>2019-11-12 03:27:12</td>\n",
              "      <td>UTC</td>\n",
              "      <td></td>\n",
              "      <td>Wow this whole #OkBoomer is getting out of hand lol.</td>\n",
              "      <td>[#okboomer]</td>\n",
              "      <td>[]</td>\n",
              "      <td>3252242233</td>\n",
              "      <td>3252242233</td>\n",
              "      <td>eddymk09</td>\n",
              "      <td>Eddy Gonzalez</td>\n",
              "      <td>2</td>\n",
              "      <td>21</td>\n",
              "      <td>https://twitter.com/eddymk09/status/1194094263895822342</td>\n",
              "      <td>False</td>\n",
              "      <td>0</td>\n",
              "      <td>0</td>\n",
              "      <td>0</td>\n",
              "      <td></td>\n",
              "      <td>#okboomer</td>\n",
              "      <td></td>\n",
              "      <td></td>\n",
              "      <td></td>\n",
              "      <td></td>\n",
              "      <td></td>\n",
              "      <td></td>\n",
              "      <td>[{'user_id': '3252242233', 'username': 'eddymk09'}]</td>\n",
              "      <td></td>\n",
              "      <td>en</td>\n",
              "    </tr>\n",
              "    <tr>\n",
              "      <th>2019-11-11 15:33:22</th>\n",
              "      <td>1193914623755476992</td>\n",
              "      <td>1193914623755476992</td>\n",
              "      <td>2019-11-11 15:33:22</td>\n",
              "      <td>2019-11-11 15:33:22</td>\n",
              "      <td>UTC</td>\n",
              "      <td></td>\n",
              "      <td>I have a new policy on Twitter; if someone says \"one last thing\" more than twice (esp. about the current #OkBoomer kerfuffle) I'm muting 'em.</td>\n",
              "      <td>[#okboomer]</td>\n",
              "      <td>[]</td>\n",
              "      <td>381621895</td>\n",
              "      <td>381621895</td>\n",
              "      <td>Anton_P_Nym</td>\n",
              "      <td>aka Steve (no chekists please, we're Canadian)</td>\n",
              "      <td>4</td>\n",
              "      <td>4</td>\n",
              "      <td>https://twitter.com/Anton_P_Nym/status/1193914623755476993</td>\n",
              "      <td>False</td>\n",
              "      <td>1</td>\n",
              "      <td>0</td>\n",
              "      <td>0</td>\n",
              "      <td></td>\n",
              "      <td>#okboomer</td>\n",
              "      <td></td>\n",
              "      <td></td>\n",
              "      <td></td>\n",
              "      <td></td>\n",
              "      <td></td>\n",
              "      <td></td>\n",
              "      <td>[{'user_id': '381621895', 'username': 'Anton_P_Nym'}]</td>\n",
              "      <td></td>\n",
              "      <td>en</td>\n",
              "    </tr>\n",
              "    <tr>\n",
              "      <th>2019-11-14 23:34:05</th>\n",
              "      <td>1195122761426825216</td>\n",
              "      <td>1195122761426825216</td>\n",
              "      <td>2019-11-14 23:34:05</td>\n",
              "      <td>2019-11-14 23:34:05</td>\n",
              "      <td>UTC</td>\n",
              "      <td></td>\n",
              "      <td>#okboomer trying to ring me up @GNCLiveWell took 30 minutes for 8 boxes of protein.  Wtf?</td>\n",
              "      <td>[#okboomer]</td>\n",
              "      <td>[]</td>\n",
              "      <td>3244415634</td>\n",
              "      <td>3244415634</td>\n",
              "      <td>BrianDColwell</td>\n",
              "      <td>Rendered Hobbit</td>\n",
              "      <td>6</td>\n",
              "      <td>0</td>\n",
              "      <td>https://twitter.com/BrianDColwell/status/1195122761426825216</td>\n",
              "      <td>False</td>\n",
              "      <td>1</td>\n",
              "      <td>0</td>\n",
              "      <td>0</td>\n",
              "      <td></td>\n",
              "      <td>#okboomer</td>\n",
              "      <td></td>\n",
              "      <td></td>\n",
              "      <td></td>\n",
              "      <td></td>\n",
              "      <td></td>\n",
              "      <td></td>\n",
              "      <td>[{'user_id': '3244415634', 'username': 'BrianDColwell'}, {'user_id': '22482597', 'username': 'GNCLiveWell'}]</td>\n",
              "      <td></td>\n",
              "      <td>en</td>\n",
              "    </tr>\n",
              "  </tbody>\n",
              "</table>\n",
              "<p>500 rows × 31 columns</p>\n",
              "</div>"
            ],
            "text/plain": [
              "                                      id      conversation_id  ... retweet_date lang\n",
              "created_at                                                     ...                  \n",
              "2019-11-11 18:35:01  1193960334140162048  1193960334140162048  ...               en \n",
              "2019-11-12 10:45:04  1194204459049652224  1194204459049652224  ...               en \n",
              "2019-11-18 23:40:11  1196573848289845248  1196573848289845248  ...               en \n",
              "2019-11-14 04:06:48  1194829005314285568  1194829005314285568  ...               en \n",
              "2019-11-13 00:31:26  1194412418790821888  1194412418790821888  ...               en \n",
              "...                                  ...                  ...  ... ..            .. \n",
              "2019-11-17 00:07:40  1195855991411077120  1195640488126078976  ...               en \n",
              "2019-11-12 03:49:34  1194099894086176768  1193974861489680384  ...               en \n",
              "2019-11-12 03:27:12  1194094263895822336  1194094263895822336  ...               en \n",
              "2019-11-11 15:33:22  1193914623755476992  1193914623755476992  ...               en \n",
              "2019-11-14 23:34:05  1195122761426825216  1195122761426825216  ...               en \n",
              "\n",
              "[500 rows x 31 columns]"
            ]
          },
          "metadata": {
            "tags": []
          },
          "execution_count": 53
        }
      ]
    },
    {
      "cell_type": "code",
      "metadata": {
        "id": "Zd-uWs9SOWSG",
        "colab_type": "code",
        "colab": {}
      },
      "source": [
        "p.set_options(p.OPT.URL, p.OPT.EMOJI, p.OPT.RESERVED, p.OPT.HASHTAG)"
      ],
      "execution_count": 0,
      "outputs": []
    },
    {
      "cell_type": "code",
      "metadata": {
        "id": "DIx9aNo2OWPI",
        "colab_type": "code",
        "colab": {}
      },
      "source": [
        "#clean up\n",
        "boomer_tweets_clean = boomer_tweets.tweet.map(p.clean)"
      ],
      "execution_count": 0,
      "outputs": []
    },
    {
      "cell_type": "code",
      "metadata": {
        "id": "AgAiNclTYIb-",
        "colab_type": "code",
        "outputId": "de267c9e-88ce-4b67-bc72-6ffc6d704e7d",
        "colab": {
          "base_uri": "https://localhost:8080/",
          "height": 250
        }
      },
      "source": [
        "boomer_tweets_clean"
      ],
      "execution_count": 0,
      "outputs": [
        {
          "output_type": "execute_result",
          "data": {
            "text/plain": [
              "9579    Omg, is this the perfect or what 🤣🤣 …                                                                                                                                                                                                                          \n",
              "8570    • HAZEMAZE (2018): 5/10 • Hymns of the Damned (2019): 5/10 • Combined: 10/10 ⭐️ Thank you ! 🥃 ______ Preorder HOTD (LP/CD/Digital) via @Bandcamp: …                                                                                                            \n",
              "2796    1/2. The result of an ahistorical society. What is striking abt is the whiteness frame of it by “woke” white folk. More accurate would be cause Boomers-of-Color were real-life sacrificing to bring folk to THIS point, standing on shoulders of OUR Elders. …\n",
              "6727    Instead of shaming another generation, go register to vote! Love this idea from @Newsweek op-Ed by @lindseypollak re: controversy                                                                                                                              \n",
              "8010    Says the guy that thinks antifa are fascists, and that Hitler was a communist... …                                                                                                                                                                             \n",
              "                                               ...                                                                                                                                                                                                                     \n",
              "4644    Should have been                                                                                                                                                                                                                                               \n",
              "8874    This has been great. I’ve eliminated about a dozen people who have responded with “”. If that really is the best comeback they have, they’re not worth the time to read.                                                                                       \n",
              "8911    Wow this whole is getting out of hand lol.                                                                                                                                                                                                                     \n",
              "9835    I have a new policy on Twitter; if someone says \"one last thing\" more than twice (esp. about the current kerfuffle) I'm muting 'em.                                                                                                                            \n",
              "6068    trying to ring me up @GNCLiveWell took 30 minutes for 8 boxes of protein. Wtf?                                                                                                                                                                                 \n",
              "Name: tweet, Length: 500, dtype: object"
            ]
          },
          "metadata": {
            "tags": []
          },
          "execution_count": 59
        }
      ]
    },
    {
      "cell_type": "code",
      "metadata": {
        "id": "BTL-mxLbL2gH",
        "colab_type": "code",
        "colab": {}
      },
      "source": [
        "# Tokenize \n",
        "from nltk.tokenize import TweetTokenizer\n",
        "\n",
        "tknzr = TweetTokenizer()\n",
        " \n",
        "boomer_tweets['tokenized'] = boomer_tweets_clean.map(lambda textline: [tag for tag in tknzr.tokenize(textline)])"
      ],
      "execution_count": 0,
      "outputs": []
    },
    {
      "cell_type": "code",
      "metadata": {
        "id": "VcNsGMdHYWYs",
        "colab_type": "code",
        "outputId": "bb624ada-d5a7-471c-9c22-975e935ba1ae",
        "colab": {
          "base_uri": "https://localhost:8080/",
          "height": 250
        }
      },
      "source": [
        "boomer_tweets.tokenized"
      ],
      "execution_count": 0,
      "outputs": [
        {
          "output_type": "execute_result",
          "data": {
            "text/plain": [
              "9579    [Omg, ,, is, this, the, perfect, or, what, 🤣, 🤣, …]                                                                                                                                                                                                                                                                      \n",
              "8570    [•, HAZEMAZE, (, 2018, ):, 5/10, •, Hymns, of, the, Damned, (, 2019, ):, 5/10, •, Combined, :, 10/10, ⭐, ️, Thank, you, !, 🥃, ___, Preorder, HOTD, (, LP, /, CD, /, Digital, ), via, @Bandcamp, :, …]                                                                                                                    \n",
              "2796    [1/2, ., The, result, of, an, ahistorical, society, ., What, is, striking, abt, is, the, whiteness, frame, of, it, by, “, woke, ”, white, folk, ., More, accurate, would, be, cause, Boomers-of-Color, were, real-life, sacrificing, to, bring, folk, to, THIS, point, ,, standing, on, shoulders, of, OUR, Elders, ., …]\n",
              "6727    [Instead, of, shaming, another, generation, ,, go, register, to, vote, !, Love, this, idea, from, @Newsweek, op-Ed, by, @lindseypollak, re, :, controversy]                                                                                                                                                              \n",
              "8010    [Says, the, guy, that, thinks, antifa, are, fascists, ,, and, that, Hitler, was, a, communist, ..., …]                                                                                                                                                                                                                   \n",
              "                                                         ...                                                                                                                                                                                                                                                                     \n",
              "4644    [Should, have, been]                                                                                                                                                                                                                                                                                                     \n",
              "8874    [This, has, been, great, ., I, ’, ve, eliminated, about, a, dozen, people, who, have, responded, with, “, ”, ., If, that, really, is, the, best, comeback, they, have, ,, they, ’, re, not, worth, the, time, to, read, .]                                                                                               \n",
              "8911    [Wow, this, whole, is, getting, out, of, hand, lol, .]                                                                                                                                                                                                                                                                   \n",
              "9835    [I, have, a, new, policy, on, Twitter, ;, if, someone, says, \", one, last, thing, \", more, than, twice, (, esp, ., about, the, current, kerfuffle, ), I'm, muting, ', em, .]                                                                                                                                             \n",
              "6068    [trying, to, ring, me, up, @GNCLiveWell, took, 30, minutes, for, 8, boxes, of, protein, ., Wtf, ?]                                                                                                                                                                                                                       \n",
              "Name: tokenized, Length: 500, dtype: object"
            ]
          },
          "metadata": {
            "tags": []
          },
          "execution_count": 64
        }
      ]
    },
    {
      "cell_type": "code",
      "metadata": {
        "id": "-3Ghnc4mL2a2",
        "colab_type": "code",
        "colab": {}
      },
      "source": [
        "# remove numbers, emojis and stuff, strip @ if anly left\n",
        "boomer_tweets['tokenized'] = boomer_tweets['tokenized'].map(lambda t: ' '.join(t))"
      ],
      "execution_count": 0,
      "outputs": []
    },
    {
      "cell_type": "code",
      "metadata": {
        "id": "-DTTIiIXY3bx",
        "colab_type": "code",
        "outputId": "3bdc1dd6-553b-447a-ec09-b1af069483ba",
        "colab": {
          "base_uri": "https://localhost:8080/",
          "height": 250
        }
      },
      "source": [
        "boomer_tweets.tokenized"
      ],
      "execution_count": 0,
      "outputs": [
        {
          "output_type": "execute_result",
          "data": {
            "text/plain": [
              "9579    Omg , is this the perfect or what 🤣 🤣 …                                                                                                                                                                                                                               \n",
              "8570    • HAZEMAZE ( 2018 ): 5/10 • Hymns of the Damned ( 2019 ): 5/10 • Combined : 10/10 ⭐ ️ Thank you ! 🥃 ___ Preorder HOTD ( LP / CD / Digital ) via @Bandcamp : …                                                                                                         \n",
              "2796    1/2 . The result of an ahistorical society . What is striking abt is the whiteness frame of it by “ woke ” white folk . More accurate would be cause Boomers-of-Color were real-life sacrificing to bring folk to THIS point , standing on shoulders of OUR Elders . …\n",
              "6727    Instead of shaming another generation , go register to vote ! Love this idea from @Newsweek op-Ed by @lindseypollak re : controversy                                                                                                                                  \n",
              "8010    Says the guy that thinks antifa are fascists , and that Hitler was a communist ... …                                                                                                                                                                                  \n",
              "                                                ...                                                                                                                                                                                                                           \n",
              "4644    Should have been                                                                                                                                                                                                                                                      \n",
              "8874    This has been great . I ’ ve eliminated about a dozen people who have responded with “ ” . If that really is the best comeback they have , they ’ re not worth the time to read .                                                                                     \n",
              "8911    Wow this whole is getting out of hand lol .                                                                                                                                                                                                                           \n",
              "9835    I have a new policy on Twitter ; if someone says \" one last thing \" more than twice ( esp . about the current kerfuffle ) I'm muting ' em .                                                                                                                           \n",
              "6068    trying to ring me up @GNCLiveWell took 30 minutes for 8 boxes of protein . Wtf ?                                                                                                                                                                                      \n",
              "Name: tokenized, Length: 500, dtype: object"
            ]
          },
          "metadata": {
            "tags": []
          },
          "execution_count": 66
        }
      ]
    },
    {
      "cell_type": "code",
      "metadata": {
        "id": "T6s-biqpPjxU",
        "colab_type": "code",
        "colab": {}
      },
      "source": [
        "#Now, lets combine everything that we learned about processing in a few lines of code\n",
        "\n",
        "tokens = []\n",
        "\n",
        "for tweet in nlp.pipe()"
      ],
      "execution_count": 0,
      "outputs": []
    },
    {
      "cell_type": "code",
      "metadata": {
        "id": "b6iTZrsTPj3z",
        "colab_type": "code",
        "colab": {}
      },
      "source": [
        ""
      ],
      "execution_count": 0,
      "outputs": []
    },
    {
      "cell_type": "code",
      "metadata": {
        "id": "9jWU98KSPjvs",
        "colab_type": "code",
        "colab": {}
      },
      "source": [
        ""
      ],
      "execution_count": 0,
      "outputs": []
    },
    {
      "cell_type": "markdown",
      "metadata": {
        "id": "346U81Z9P94k",
        "colab_type": "text"
      },
      "source": [
        "## Gensim"
      ]
    },
    {
      "cell_type": "code",
      "metadata": {
        "id": "xSeeL-FTPjs8",
        "colab_type": "code",
        "colab": {}
      },
      "source": [
        "# Gensim libs"
      ],
      "execution_count": 0,
      "outputs": []
    },
    {
      "cell_type": "code",
      "metadata": {
        "id": "5y8qP736PjqP",
        "colab_type": "code",
        "colab": {}
      },
      "source": [
        "#Create corpus"
      ],
      "execution_count": 0,
      "outputs": []
    },
    {
      "cell_type": "code",
      "metadata": {
        "id": "nHFCIHl2L2VW",
        "colab_type": "code",
        "colab": {}
      },
      "source": [
        "# Run LPA"
      ],
      "execution_count": 0,
      "outputs": []
    }
  ]
}